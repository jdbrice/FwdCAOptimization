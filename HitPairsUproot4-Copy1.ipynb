{
 "cells": [
  {
   "cell_type": "code",
   "execution_count": 1,
   "metadata": {},
   "outputs": [],
   "source": [
    "import sys\n",
    "sys.path.append('/gpfs/loomis/home.grace/ys668/software/koza4ok')\n",
    "import uproot4 as uproot\n",
    "import math\n",
    "import importlib\n",
    "import matplotlib.pyplot as plt\n",
    "import matplotlib.colors as colors\n",
    "from matplotlib import cm\n",
    "from mpl_toolkits.mplot3d import axes3d\n",
    "import pandas as pd\n",
    "import numpy as np\n",
    "from sklearn.ensemble import AdaBoostClassifier, GradientBoostingClassifier\n",
    "from sklearn.model_selection import KFold, train_test_split\n",
    "from sklearn import datasets\n",
    "from sklearn.tree import DecisionTreeClassifier\n",
    "from sklearn.metrics import classification_report, roc_auc_score, auc, roc_curve, precision_recall_curve, plot_precision_recall_curve\n",
    "from skTMVA import convert_bdt_sklearn_tmva\n",
    "from joblib import dump, load\n",
    "import pickle"
   ]
  },
  {
   "cell_type": "code",
   "execution_count": 2,
   "metadata": {},
   "outputs": [],
   "source": [
    "tree = uproot.open( \"/gpfs/loomis/home.grace/ys668/output/mltree1.root:Stg\" )"
   ]
  },
  {
   "cell_type": "code",
   "execution_count": 3,
   "metadata": {},
   "outputs": [],
   "source": [
    "xyztv = tree.arrays( [ \"x\", \"y\", \"z\", \"tid\", \"vid\" ], library='np')"
   ]
  },
  {
   "cell_type": "code",
   "execution_count": 37,
   "metadata": {},
   "outputs": [],
   "source": [
    "class HitPoint:\n",
    "    def __init__( self, _x, _y, _z, _v, _t, _p ):\n",
    "        self.x = _x\n",
    "        self.y = _y\n",
    "        self.z = _z\n",
    "        self.v = _v\n",
    "        self.t = _t\n",
    "        self.p = _p\n",
    "    def __repr__( self ):\n",
    "        return 'HitPoint[v=%d, (%0.3f, %0.3f, %0.3f), tid=%d]' % ( self.v, self.x, self.y, self.z, self.t, self.p )\n",
    "    \n",
    "class CriteriaResult:\n",
    "    def __init__(self):\n",
    "        self.real = False\n",
    "        self.res = -99\n",
    "        self.pt = -99\n",
    "        self.eta = -99\n",
    "        self.phi = -99\n",
    "    \n",
    "        \n",
    "def generate_vol_map( x, y, z, v, t, phi0, phi1 ):\n",
    "    vol_map = [ [], [], [], [] ] # maps to 4 volumes\n",
    "    interval = phi1 - phi0\n",
    "    for _x, _y, _z, _v, _t in zip(  x, y, z, v, t ):\n",
    "        phi = math.atan2( _y, _x )      \n",
    "        for i in range(0, int(2*np.pi/interval)):\n",
    "            if phi < phi1+i*interval and phi >= phi0+i*interval :\n",
    "                vol_map[_v].append( HitPoint( _x, _y, _z, _v, _t, phi0+i*interval ) )\n",
    "    return vol_map\n",
    "\n",
    "def gen_pairs( vm ) :\n",
    "    hp = []\n",
    "    for i in np.arange( 0, 3 ):\n",
    "        for a in vm[i] :\n",
    "            for b in vm[i+1]:\n",
    "                if a.p == b.p:\n",
    "                    hp.append( (a,b) )\n",
    "    return hp\n",
    "\n",
    "def loc(a, b):\n",
    "    return[a.x, a.y, a.z, b.x, b.y, b.z]\n",
    "\n",
    "def crit_rz( a, b ):\n",
    "    dx = a.x-b.x\n",
    "    dy = a.y-b.y\n",
    "    dz = a.z-b.z\n",
    "    return (dx**2+dy**2+dz**2)/dz**2;\n",
    "\n",
    "M_PI = 3.1415926\n",
    "def crit_dphi( a, b ):\n",
    "    phia = math.atan2( a.y, a.x )\n",
    "    phib = math.atan2(b.y, b.x)\n",
    "    deltaPhi = phia-phib\n",
    "    if deltaPhi > M_PI :\n",
    "        deltaPhi = deltaPhi - 2*M_PI\n",
    "    if deltaPhi < -M_PI:\n",
    "        deltaPhi = deltaPhi + 2*M_PI\n",
    "    if ( b.y*b.y + b.x*b.x < 0.0001 ) or ( a.y*a.y + a.x*a.x < 0.0001 ):\n",
    "        deltaPhi = 0\n",
    "    deltaPhi = 180. * math.fabs( deltaPhi ) / M_PI\n",
    "    return deltaPhi\n",
    "\n",
    "def crit_deltaRho( a, b ):\n",
    "    rhoA =  math.sqrt( a.x*a.x + a.y*a.y );\n",
    "    rhoB =  math.sqrt( b.x*b.x + b.y*b.y );\n",
    "\n",
    "    deltaRho = rhoA - rhoB;\n",
    "    return deltaRho\n",
    "\n",
    "def crit_straightTrackRatio( a, b ):\n",
    "    rhoA =  math.sqrt( a.x*a.x + a.y*a.y );\n",
    "    rhoB =  math.sqrt( b.x*b.x + b.y*b.y );\n",
    "    \n",
    "    ratio = (rhoA*b.z) / (rhoB*a.z)\n",
    "    return ratio"
   ]
  },
  {
   "cell_type": "code",
   "execution_count": 38,
   "metadata": {},
   "outputs": [],
   "source": [
    "all_pairs = []\n",
    "real_pairs = []\n",
    "fake_pairs = []\n",
    "\n",
    "all_RZ = []\n",
    "all_DP = []\n",
    "all_DR = []\n",
    "all_SR = []\n",
    "\n",
    "for iEvent in np.arange( len(xyztv[\"x\"]) ) :\n",
    "    vm = generate_vol_map( xyztv[\"x\"][iEvent], xyztv[\"y\"][iEvent], xyztv[\"z\"][iEvent], xyztv[\"vid\"][iEvent], xyztv[\"tid\"][iEvent], 0, math.pi/4 )\n",
    "    pairs = gen_pairs( vm )\n",
    "    all_pairs.extend( pairs )"
   ]
  },
  {
   "cell_type": "code",
   "execution_count": 39,
   "metadata": {},
   "outputs": [
    {
     "name": "stdout",
     "output_type": "stream",
     "text": [
      "4547177\n"
     ]
    }
   ],
   "source": [
    "print(len(all_pairs))"
   ]
  },
  {
   "cell_type": "code",
   "execution_count": 40,
   "metadata": {},
   "outputs": [],
   "source": [
    "all_RZ = [ crit_rz( p[0], p[1] ) for p in all_pairs ]\n",
    "all_DP = [ crit_dphi( p[0], p[1] ) for p in all_pairs ]\n",
    "all_DR = [ crit_deltaRho( p[0], p[1] ) for p in all_pairs ]\n",
    "all_SR = [ crit_straightTrackRatio( p[0], p[1] ) for p in all_pairs ]"
   ]
  },
  {
   "cell_type": "code",
   "execution_count": 42,
   "metadata": {},
   "outputs": [
    {
     "name": "stdout",
     "output_type": "stream",
     "text": [
      "[1.0057341878052604, 1.0322915810058668, 1.1530884871424862, 1.1519700991115578]\n",
      "[0.11329639004960716, 0.9640623108866178, 17.682524125875894, 19.261573371424536]\n",
      "[-1.7258542876287102, -4.076738479739401, -4.7483425245546655, -3.277197792195583]\n",
      "[1.0066438469235277, 0.9141166925439486, 0.8914264734279581, 0.9468788794472899]\n"
     ]
    }
   ],
   "source": [
    "print(all_RZ[:4])\n",
    "print(all_DP[:4])\n",
    "print(all_DR[:4])\n",
    "print(all_SR[:4])"
   ]
  },
  {
   "cell_type": "code",
   "execution_count": 9,
   "metadata": {},
   "outputs": [],
   "source": [
    "realtrack = [ True if p[0].t == p[1].t else False for p in all_pairs ]\n",
    "RZ_real = [ rz for i, rz in enumerate(all_RZ) if all_pairs[i][0].t == all_pairs[i][1].t  ]\n",
    "RZ_fake = [ rz for i, rz in enumerate(all_RZ) if all_pairs[i][0].t != all_pairs[i][1].t  ]\n",
    "DP_real = [ rz for i, rz in enumerate(all_DP) if all_pairs[i][0].t == all_pairs[i][1].t  ]\n",
    "DP_fake = [ rz for i, rz in enumerate(all_DP) if all_pairs[i][0].t != all_pairs[i][1].t  ]\n",
    "DR_real = [ rz for i, rz in enumerate(all_DR) if all_pairs[i][0].t == all_pairs[i][1].t  ]\n",
    "DR_fake = [ rz for i, rz in enumerate(all_DR) if all_pairs[i][0].t != all_pairs[i][1].t  ]\n",
    "SR_real = [ rz for i, rz in enumerate(all_SR) if all_pairs[i][0].t == all_pairs[i][1].t  ]\n",
    "SR_fake = [ rz for i, rz in enumerate(all_SR) if all_pairs[i][0].t != all_pairs[i][1].t  ]"
   ]
  },
  {
   "cell_type": "code",
   "execution_count": 14,
   "metadata": {},
   "outputs": [],
   "source": [
    "real = [RZ_real, DP_real, DR_real, SR_real]\n",
    "fake = [RZ_fake, DP_fake, DR_fake, SR_fake]"
   ]
  },
  {
   "cell_type": "code",
   "execution_count": 16,
   "metadata": {},
   "outputs": [],
   "source": [
    "realt = np.transpose(real)\n",
    "faket = np.transpose(fake)"
   ]
  },
  {
   "cell_type": "code",
   "execution_count": 13,
   "metadata": {},
   "outputs": [
    {
     "name": "stdout",
     "output_type": "stream",
     "text": [
      "[ 1.00398141  0.08962194 -1.43836398  0.99871486]\n",
      "1.003981412470476 0.08962193899695364 -1.4383639827074148 0.9987148571460467\n"
     ]
    }
   ],
   "source": [
    "print(realt[0])\n",
    "print(RZ_real[0], DP_real[0], DR_real[0], SR_real[0])"
   ]
  },
  {
   "cell_type": "code",
   "execution_count": 17,
   "metadata": {},
   "outputs": [],
   "source": [
    "X2 = np.concatenate((realt, faket))\n",
    "y2 = np.concatenate((np.ones(len(realt)), np.zeros(len(faket))))"
   ]
  },
  {
   "cell_type": "code",
   "execution_count": 24,
   "metadata": {},
   "outputs": [
    {
     "name": "stdout",
     "output_type": "stream",
     "text": [
      "848610\n"
     ]
    }
   ],
   "source": [
    "print(len(X2))"
   ]
  },
  {
   "cell_type": "code",
   "execution_count": 18,
   "metadata": {},
   "outputs": [],
   "source": [
    "X2_dev,X2_eval, y2_dev,y2_eval = train_test_split(X2, y2, test_size=0.33, random_state=42)\n",
    "X2_train,X2_test, y2_train,y2_test = train_test_split(X2_dev, y2_dev, test_size=0.33, random_state=492)"
   ]
  },
  {
   "cell_type": "code",
   "execution_count": 19,
   "metadata": {},
   "outputs": [
    {
     "data": {
      "text/plain": [
       "AdaBoostClassifier(algorithm='SAMME',\n",
       "                   base_estimator=DecisionTreeClassifier(max_depth=3),\n",
       "                   learning_rate=0.5, n_estimators=800)"
      ]
     },
     "execution_count": 19,
     "metadata": {},
     "output_type": "execute_result"
    }
   ],
   "source": [
    "dt = DecisionTreeClassifier(max_depth=3)\n",
    "bdt2 = AdaBoostClassifier(dt,\n",
    "                         algorithm='SAMME',\n",
    "                         n_estimators=800,\n",
    "                         learning_rate=0.5)\n",
    "\n",
    "bdt2.fit(X2_train, y2_train)"
   ]
  },
  {
   "cell_type": "code",
   "execution_count": 20,
   "metadata": {},
   "outputs": [],
   "source": [
    "filename = 'bdt2_crit2.sav'\n",
    "pickle.dump(bdt2, open(filename, 'wb'))"
   ]
  },
  {
   "cell_type": "code",
   "execution_count": 21,
   "metadata": {
    "scrolled": true
   },
   "outputs": [
    {
     "name": "stdout",
     "output_type": "stream",
     "text": [
      "              precision    recall  f1-score   support\n",
      "\n",
      "        fake       0.91      0.94      0.93    148261\n",
      "        real       0.75      0.64      0.69     39367\n",
      "\n",
      "    accuracy                           0.88    187628\n",
      "   macro avg       0.83      0.79      0.81    187628\n",
      "weighted avg       0.88      0.88      0.88    187628\n",
      "\n",
      "Area under ROC curve: 0.9232\n"
     ]
    }
   ],
   "source": [
    "y2_predicted = bdt2.predict(X2_test)\n",
    "print (classification_report(y2_test, y2_predicted,\n",
    "                            target_names=[\"fake\", \"real\"]))\n",
    "print (\"Area under ROC curve: %.4f\"%(roc_auc_score(y2_test,\n",
    "                                                  bdt2.decision_function(X2_test))))"
   ]
  },
  {
   "cell_type": "code",
   "execution_count": 22,
   "metadata": {},
   "outputs": [
    {
     "data": {
      "image/png": "[encoded data removed]",
      "text/plain": [
       "<Figure size 432x288 with 1 Axes>"
      ]
     },
     "metadata": {
      "needs_background": "light"
     },
     "output_type": "display_data"
    }
   ],
   "source": [
    "decisions = bdt2.decision_function(X2_test)\n",
    "fpr, tpr, thresholds = roc_curve(y2_test, decisions)\n",
    "roc_auc = auc(fpr, tpr)\n",
    "\n",
    "plt.plot(fpr, tpr, lw=1, label='ROC (area = %0.2f)'%(roc_auc))\n",
    "\n",
    "plt.plot([0, 1], [0, 1], '--', color=(0.6, 0.6, 0.6), label='Luck')\n",
    "plt.xlim([-0.05, 1.05])\n",
    "plt.ylim([-0.05, 1.05])\n",
    "plt.xlabel('False Positive Rate')\n",
    "plt.ylabel('True Positive Rate')\n",
    "plt.title('Receiver operating characteristic')\n",
    "plt.legend(loc=\"lower right\")\n",
    "plt.grid()\n",
    "plt.show()"
   ]
  },
  {
   "cell_type": "code",
   "execution_count": 23,
   "metadata": {},
   "outputs": [
    {
     "data": {
      "image/png": "[encoded data removed]",
      "text/plain": [
       "<Figure size 432x288 with 1 Axes>"
      ]
     },
     "metadata": {
      "needs_background": "light"
     },
     "output_type": "display_data"
    }
   ],
   "source": [
    "plot_colors = \"br\"\n",
    "plot_step = 0.02\n",
    "class_names = 'fake','real'\n",
    "\n",
    "plot_range = (decisions.min(), decisions.max())\n",
    "for i, n, c in zip(range(2), class_names, plot_colors):\n",
    "    plt.hist(decisions[y2_test == i],\n",
    "             bins=100,\n",
    "             range=plot_range,\n",
    "             facecolor=c,\n",
    "             label=n,\n",
    "             alpha=.5,\n",
    "             edgecolor='k')\n",
    "x1, x2, y1, y2 = plt.axis()\n",
    "plt.axis((x1, x2, y1, y2 * 1.2))\n",
    "plt.legend(loc='upper right')\n",
    "plt.ylabel('Samples')\n",
    "plt.xlabel('Score')\n",
    "plt.title('Decision Scores')\n",
    "\n",
    "plt.show()"
   ]
  },
  {
   "cell_type": "code",
   "execution_count": null,
   "metadata": {},
   "outputs": [],
   "source": []
  }
 ],
 "metadata": {
  "kernelspec": {
   "display_name": "Python 3",
   "language": "python",
   "name": "python3"
  },
  "language_info": {
   "codemirror_mode": {
    "name": "ipython",
    "version": 3
   },
   "file_extension": ".py",
   "mimetype": "text/x-python",
   "name": "python",
   "nbconvert_exporter": "python",
   "pygments_lexer": "ipython3",
   "version": "3.8.6"
  }
 },
 "nbformat": 4,
 "nbformat_minor": 4
}
