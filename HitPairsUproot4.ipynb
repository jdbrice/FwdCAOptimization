{
 "cells": [
  {
   "cell_type": "code",
   "execution_count": 1,
   "metadata": {},
   "outputs": [],
   "source": [
    "import numpy as np\n",
    "import uproot\n",
    "import math"
   ]
  },
  {
   "cell_type": "code",
   "execution_count": 2,
   "metadata": {},
   "outputs": [],
   "source": [
    "tree = uproot.open( \"mltree.root:Stg\" )"
   ]
  },
  {
   "cell_type": "code",
   "execution_count": 3,
   "metadata": {},
   "outputs": [],
   "source": [
    "import matplotlib.pyplot as plt\n",
    "fs = ( 16, 9 ) # lets make all our figures 16 by 9"
   ]
  },
  {
   "cell_type": "code",
   "execution_count": 5,
   "metadata": {},
   "outputs": [],
   "source": [
    "xyztv = tree.arrays( [ \"x\", \"y\", \"z\", \"tid\", \"vid\" ], library='np'  )"
   ]
  },
  {
   "cell_type": "code",
   "execution_count": 10,
   "metadata": {},
   "outputs": [
    {
     "data": {
      "text/plain": [
       "array([-45.055008  ,  -0.917182  ,   7.5432425 ,  14.245992  ,\n",
       "       -39.71492   ,  15.288912  ,  43.614513  ,  -0.9356067 ,\n",
       "         8.502674  ,  16.450796  , -42.56439   ,  17.376654  ,\n",
       "        17.393652  , -52.776825  ,  -0.9374285 ,   9.475048  ,\n",
       "        18.730406  , -45.45975   , -15.406363  ,  19.412064  ,\n",
       "        -0.95660293,  10.435221  ,  20.901785  , -48.378323  ,\n",
       "        21.303198  ,  21.704903  ], dtype=float32)"
      ]
     },
     "execution_count": 10,
     "metadata": {},
     "output_type": "execute_result"
    }
   ],
   "source": []
  },
  {
   "cell_type": "code",
   "execution_count": 11,
   "metadata": {},
   "outputs": [],
   "source": [
    "class HitPoint:\n",
    "    def __init__( self, _x, _y, _z, _v, _t ):\n",
    "        self.x = _x\n",
    "        self.y = _y\n",
    "        self.z = _z\n",
    "        self.v = _v\n",
    "        self.t = _t\n",
    "    def __repr__( self ):\n",
    "        return 'HitPoint[v=%d, (%0.3f, %0.3f, %0.3f), tid=%d]' % ( self.v, self.x, self.y, self.z, self.t )\n",
    "    \n",
    "class CriteriaResult:\n",
    "    def __init__(self):\n",
    "        self.real = False\n",
    "        self.res = -99\n",
    "        self.pt = -99\n",
    "        self.eta = -99\n",
    "        self.phi = -99\n",
    "    \n",
    "        \n",
    "def generate_vol_map( x, y, z, v, t, phi0, phi1 ):\n",
    "    vol_map = [ [], [], [], [] ] # maps to 4 volumes\n",
    "    for _x, _y, _z, _v, _t in zip(  x, y, z, v, t ):\n",
    "        phi = math.atan2( _y, _x )\n",
    "        if phi < phi1 and phi >= phi0 :\n",
    "            vol_map[_v].append( HitPoint( _x, _y, _z, _v, _t ) )\n",
    "    return vol_map\n",
    "    #vol_map[]\n",
    "    #print( len(x) )\n",
    "\n",
    "def gen_pairs( vm ) :\n",
    "    hp = []\n",
    "    for i in np.arange( 0, 3 ):\n",
    "        for a in vm[i] :\n",
    "            for b in vm[i+1]:\n",
    "                hp.append( (a,b) )\n",
    "    return hp\n",
    "\n",
    "def process_pairs( hp, pts, crit ):\n",
    "    crs = []\n",
    "    \n",
    "    for points in hp:\n",
    "        a = points[0]\n",
    "        b = points[1]\n",
    "        cr = CriteriaResult()\n",
    "        cr.res = crit(a, b)\n",
    "        cr.real = (a.t == b.t)\n",
    "        if cr.real :\n",
    "            cr.pt = pts[a.t - 1]\n",
    "        crs.append( cr )\n",
    "        \n",
    "    return crs\n",
    "\n",
    "\n",
    "def crit_rz( a, b ):\n",
    "    dx = a.x-b.x\n",
    "    dy = a.y-b.y\n",
    "    dz = a.z-b.z\n",
    "    return (dx**2+dy**2+dz**2)/dz**2;\n",
    "\n",
    "M_PI = 3.1415926\n",
    "def crit_dphi( a, b ):\n",
    "    phia = math.atan2( a.y, a.x )\n",
    "    phib = math.atan2(b.y, b.x)\n",
    "    deltaPhi = phia-phib\n",
    "    if deltaPhi > M_PI :\n",
    "        deltaPhi = deltaPhi - 2*M_PI\n",
    "    if deltaPhi < -M_PI:\n",
    "        deltaPhi = deltaPhi + 2*M_PI\n",
    "    if ( b.y*b.y + b.x*b.x < 0.0001 ) or ( a.y*a.y + a.x*a.x < 0.0001 ):\n",
    "        deltaPhi = 0\n",
    "    deltaPhi = 180. * math.fabs( deltaPhi ) / M_PI\n",
    "    return deltaPhi\n",
    "\n",
    "def crit_deltaRho( a, b ):\n",
    "    rhoA =  math.sqrt( a.x*a.x + a.y*a.y );\n",
    "    rhoB =  math.sqrt( b.x*b.x + b.y*b.y );\n",
    "\n",
    "    deltaRho = rhoA - rhoB;\n",
    "    return deltaRho\n",
    "\n",
    "def pair_stats( pairs ):\n",
    "    nr = 0\n",
    "    nf = 0\n",
    "    for p in pairs:\n",
    "        if p[0].t == p[1].t:\n",
    "            nr = nr + 1\n",
    "        else :\n",
    "            nf = nf + 1\n",
    "#     print( \"There are %d real and %d fake pairs, with %f %% real\" % ( nr, nf, (nr / len(pairs)) ) ) \n",
    "    return (nr, nf, (nr / len(pairs)) )"
   ]
  },
  {
   "cell_type": "code",
   "execution_count": 14,
   "metadata": {},
   "outputs": [
    {
     "name": "stdout",
     "output_type": "stream",
     "text": [
      "Event 0\n",
      "Event 5000\n",
      "Event 10000\n",
      "Event 15000\n",
      "Event 20000\n",
      "Event 25000\n",
      "Event 30000\n",
      "Event 35000\n",
      "Event 40000\n",
      "Event 45000\n"
     ]
    }
   ],
   "source": [
    "all_pairs = []\n",
    "real_pairs = []\n",
    "fake_pairs = []\n",
    "\n",
    "all_RZ = []\n",
    "all_DP = []\n",
    "all_DR = []\n",
    "\n",
    "for iEvent in np.arange( len(xyztv[\"x\"]) ) :\n",
    "    vm = generate_vol_map( xyztv[\"x\"][iEvent], xyztv[\"y\"][iEvent], xyztv[\"z\"][iEvent], xyztv[\"vid\"][iEvent], xyztv[\"tid\"][iEvent], 0, math.pi/8 )\n",
    "    pairs = gen_pairs( vm )\n",
    "    all_pairs.extend( pairs )\n",
    "    \n",
    "    if iEvent % 5000 == 0:\n",
    "        print( \"Event %d\" %(iEvent))\n",
    "#     inr, inf, ipur = pair_stats( pairs )\n",
    "\n",
    "    "
   ]
  },
  {
   "cell_type": "code",
   "execution_count": 15,
   "metadata": {},
   "outputs": [],
   "source": [
    "all_RZ = [ crit_rz( p[0], p[1] ) for p in all_pairs ]"
   ]
  },
  {
   "cell_type": "code",
   "execution_count": 16,
   "metadata": {},
   "outputs": [
    {
     "data": {
      "image/png": "[encoded data removed]",
      "text/plain": [
       "<Figure size 1152x648 with 1 Axes>"
      ]
     },
     "metadata": {
      "needs_background": "light"
     },
     "output_type": "display_data"
    }
   ],
   "source": [
    "realtrack = [ True if p[0].t == p[1].t else False for p in all_pairs ]\n",
    "RZ_real = [ rz for i, rz in enumerate(all_RZ) if all_pairs[i][0].t == all_pairs[i][1].t  ]\n",
    "RZ_fake = [ rz for i, rz in enumerate(all_RZ) if all_pairs[i][0].t != all_pairs[i][1].t  ]\n",
    "\n",
    "plt.figure(figsize=fs)\n",
    "plt.hist( RZ_real, bins=np.linspace(0.8, 1.5, 200), fc='red' )\n",
    "plt.hist( RZ_fake, bins=np.linspace(0.8, 1.5, 200), fc='blue', alpha=0.4 )\n",
    "plt.yscale('log')\n",
    "plt.show()"
   ]
  },
  {
   "cell_type": "code",
   "execution_count": null,
   "metadata": {},
   "outputs": [],
   "source": []
  }
 ],
 "metadata": {
  "kernelspec": {
   "display_name": "py38",
   "language": "python",
   "name": "py38"
  },
  "language_info": {
   "codemirror_mode": {
    "name": "ipython",
    "version": 3
   },
   "file_extension": ".py",
   "mimetype": "text/x-python",
   "name": "python",
   "nbconvert_exporter": "python",
   "pygments_lexer": "ipython3",
   "version": "3.8.5"
  }
 },
 "nbformat": 4,
 "nbformat_minor": 4
}
