{
 "cells": [
  {
   "cell_type": "code",
   "execution_count": 1,
   "metadata": {},
   "outputs": [],
   "source": [
    "import sys\n",
    "sys.path.append('/gpfs/loomis/home.grace/ys668/software/koza4ok')\n",
    "import uproot4 as uproot\n",
    "import math\n",
    "import importlib\n",
    "import matplotlib.pyplot as plt\n",
    "import matplotlib.colors as colors\n",
    "from matplotlib import cm\n",
    "from mpl_toolkits.mplot3d import axes3d\n",
    "import pandas as pd\n",
    "import numpy as np\n",
    "from sklearn.ensemble import AdaBoostClassifier, GradientBoostingClassifier\n",
    "from sklearn.model_selection import KFold, train_test_split\n",
    "from sklearn import datasets\n",
    "from sklearn.tree import DecisionTreeClassifier\n",
    "from sklearn.metrics import classification_report, roc_auc_score, auc, roc_curve\n",
    "from skTMVA import convert_bdt_sklearn_tmva"
   ]
  },
  {
   "cell_type": "code",
   "execution_count": 3,
   "metadata": {
    "scrolled": false
   },
   "outputs": [],
   "source": [
    "mltreeroot = uproot.open(\"/gpfs/loomis/home.grace/ys668/output/mltree1.root\" )\n",
    "mltree = mltreeroot[\"Stg\"]"
   ]
  },
  {
   "cell_type": "code",
   "execution_count": 4,
   "metadata": {},
   "outputs": [],
   "source": [
    "Crit2 = mltree.arrays( [\"Crit2_RZRatio\", \"Crit2_RZRatio_trackIds\", \n",
    "                        \"Crit2_DeltaRho\", \"Crit2_DeltaRho_trackIds\", \n",
    "                        \"Crit2_DeltaPhi\", \"Crit2_DeltaPhi_trackIds\", \n",
    "                        \"Crit2_StraightTrackRatio\", \"Crit2_StraightTrackRatio_trackIds\"] , library=\"pd\")\n",
    "Crit3 = mltree.arrays( [\"Crit3_3DAngle\", \"Crit3_3DAngle_trackIds\", \n",
    "                        \"Crit3_ChangeRZRatio\", \"Crit3_ChangeRZRatio_trackIds\", \n",
    "                        \"Crit3_2DAngle\", \"Crit3_2DAngle_trackIds\"] , library=\"pd\")"
   ]
  },
  {
   "cell_type": "code",
   "execution_count": 5,
   "metadata": {},
   "outputs": [
    {
     "name": "stdout",
     "output_type": "stream",
     "text": [
      "<class 'pandas.core.frame.DataFrame'> <class 'pandas.core.frame.DataFrame'>\n"
     ]
    }
   ],
   "source": [
    "print(type(Crit2), type(Crit3))"
   ]
  },
  {
   "cell_type": "code",
   "execution_count": 6,
   "metadata": {},
   "outputs": [
    {
     "data": {
      "text/html": [
       "<div>\n",
       "<style scoped>\n",
       "    .dataframe tbody tr th:only-of-type {\n",
       "        vertical-align: middle;\n",
       "    }\n",
       "\n",
       "    .dataframe tbody tr th {\n",
       "        vertical-align: top;\n",
       "    }\n",
       "\n",
       "    .dataframe thead th {\n",
       "        text-align: right;\n",
       "    }\n",
       "</style>\n",
       "<table border=\"1\" class=\"dataframe\">\n",
       "  <thead>\n",
       "    <tr style=\"text-align: right;\">\n",
       "      <th></th>\n",
       "      <th></th>\n",
       "      <th>Crit2_RZRatio</th>\n",
       "      <th>Crit2_RZRatio_trackIds</th>\n",
       "      <th>Crit2_DeltaRho</th>\n",
       "      <th>Crit2_DeltaRho_trackIds</th>\n",
       "      <th>Crit2_DeltaPhi</th>\n",
       "      <th>Crit2_DeltaPhi_trackIds</th>\n",
       "      <th>Crit2_StraightTrackRatio</th>\n",
       "      <th>Crit2_StraightTrackRatio_trackIds</th>\n",
       "    </tr>\n",
       "    <tr>\n",
       "      <th>entry</th>\n",
       "      <th>subentry</th>\n",
       "      <th></th>\n",
       "      <th></th>\n",
       "      <th></th>\n",
       "      <th></th>\n",
       "      <th></th>\n",
       "      <th></th>\n",
       "      <th></th>\n",
       "      <th></th>\n",
       "    </tr>\n",
       "  </thead>\n",
       "  <tbody>\n",
       "    <tr>\n",
       "      <th rowspan=\"5\" valign=\"top\">0</th>\n",
       "      <th>0</th>\n",
       "      <td>1.021419</td>\n",
       "      <td>-1</td>\n",
       "      <td>-4.738697</td>\n",
       "      <td>-1</td>\n",
       "      <td>0.801099</td>\n",
       "      <td>-1</td>\n",
       "      <td>0.691984</td>\n",
       "      <td>-1</td>\n",
       "    </tr>\n",
       "    <tr>\n",
       "      <th>1</th>\n",
       "      <td>1.022302</td>\n",
       "      <td>-1</td>\n",
       "      <td>-4.839012</td>\n",
       "      <td>-1</td>\n",
       "      <td>0.601002</td>\n",
       "      <td>-1</td>\n",
       "      <td>0.688314</td>\n",
       "      <td>-1</td>\n",
       "    </tr>\n",
       "    <tr>\n",
       "      <th>2</th>\n",
       "      <td>1.304533</td>\n",
       "      <td>-1</td>\n",
       "      <td>-17.746450</td>\n",
       "      <td>-1</td>\n",
       "      <td>19.210548</td>\n",
       "      <td>-1</td>\n",
       "      <td>0.409136</td>\n",
       "      <td>-1</td>\n",
       "    </tr>\n",
       "    <tr>\n",
       "      <th>3</th>\n",
       "      <td>1.004187</td>\n",
       "      <td>355</td>\n",
       "      <td>1.893636</td>\n",
       "      <td>355</td>\n",
       "      <td>3.855710</td>\n",
       "      <td>355</td>\n",
       "      <td>1.068689</td>\n",
       "      <td>355</td>\n",
       "    </tr>\n",
       "    <tr>\n",
       "      <th>4</th>\n",
       "      <td>1.594602</td>\n",
       "      <td>-1</td>\n",
       "      <td>-26.755651</td>\n",
       "      <td>-1</td>\n",
       "      <td>22.318817</td>\n",
       "      <td>-1</td>\n",
       "      <td>0.318865</td>\n",
       "      <td>-1</td>\n",
       "    </tr>\n",
       "    <tr>\n",
       "      <th>...</th>\n",
       "      <th>...</th>\n",
       "      <td>...</td>\n",
       "      <td>...</td>\n",
       "      <td>...</td>\n",
       "      <td>...</td>\n",
       "      <td>...</td>\n",
       "      <td>...</td>\n",
       "      <td>...</td>\n",
       "      <td>...</td>\n",
       "    </tr>\n",
       "    <tr>\n",
       "      <th rowspan=\"5\" valign=\"top\">49499</th>\n",
       "      <th>4</th>\n",
       "      <td>1.007454</td>\n",
       "      <td>-1</td>\n",
       "      <td>2.785313</td>\n",
       "      <td>-1</td>\n",
       "      <td>0.434769</td>\n",
       "      <td>-1</td>\n",
       "      <td>0.998189</td>\n",
       "      <td>-1</td>\n",
       "    </tr>\n",
       "    <tr>\n",
       "      <th>5</th>\n",
       "      <td>1.299637</td>\n",
       "      <td>-1</td>\n",
       "      <td>-15.502758</td>\n",
       "      <td>-1</td>\n",
       "      <td>12.340158</td>\n",
       "      <td>-1</td>\n",
       "      <td>0.688496</td>\n",
       "      <td>-1</td>\n",
       "    </tr>\n",
       "    <tr>\n",
       "      <th>6</th>\n",
       "      <td>1.299396</td>\n",
       "      <td>-1</td>\n",
       "      <td>-15.427925</td>\n",
       "      <td>-1</td>\n",
       "      <td>12.452241</td>\n",
       "      <td>-1</td>\n",
       "      <td>0.689373</td>\n",
       "      <td>-1</td>\n",
       "    </tr>\n",
       "    <tr>\n",
       "      <th>7</th>\n",
       "      <td>1.006945</td>\n",
       "      <td>-1</td>\n",
       "      <td>2.691032</td>\n",
       "      <td>-1</td>\n",
       "      <td>0.081525</td>\n",
       "      <td>-1</td>\n",
       "      <td>0.996621</td>\n",
       "      <td>-1</td>\n",
       "    </tr>\n",
       "    <tr>\n",
       "      <th>8</th>\n",
       "      <td>1.006917</td>\n",
       "      <td>-1</td>\n",
       "      <td>2.640335</td>\n",
       "      <td>-1</td>\n",
       "      <td>0.675205</td>\n",
       "      <td>-1</td>\n",
       "      <td>0.995380</td>\n",
       "      <td>-1</td>\n",
       "    </tr>\n",
       "  </tbody>\n",
       "</table>\n",
       "<p>1322934 rows × 8 columns</p>\n",
       "</div>"
      ],
      "text/plain": [
       "                Crit2_RZRatio  Crit2_RZRatio_trackIds  Crit2_DeltaRho  \\\n",
       "entry subentry                                                          \n",
       "0     0              1.021419                      -1       -4.738697   \n",
       "      1              1.022302                      -1       -4.839012   \n",
       "      2              1.304533                      -1      -17.746450   \n",
       "      3              1.004187                     355        1.893636   \n",
       "      4              1.594602                      -1      -26.755651   \n",
       "...                       ...                     ...             ...   \n",
       "49499 4              1.007454                      -1        2.785313   \n",
       "      5              1.299637                      -1      -15.502758   \n",
       "      6              1.299396                      -1      -15.427925   \n",
       "      7              1.006945                      -1        2.691032   \n",
       "      8              1.006917                      -1        2.640335   \n",
       "\n",
       "                Crit2_DeltaRho_trackIds  Crit2_DeltaPhi  \\\n",
       "entry subentry                                            \n",
       "0     0                              -1        0.801099   \n",
       "      1                              -1        0.601002   \n",
       "      2                              -1       19.210548   \n",
       "      3                             355        3.855710   \n",
       "      4                              -1       22.318817   \n",
       "...                                 ...             ...   \n",
       "49499 4                              -1        0.434769   \n",
       "      5                              -1       12.340158   \n",
       "      6                              -1       12.452241   \n",
       "      7                              -1        0.081525   \n",
       "      8                              -1        0.675205   \n",
       "\n",
       "                Crit2_DeltaPhi_trackIds  Crit2_StraightTrackRatio  \\\n",
       "entry subentry                                                      \n",
       "0     0                              -1                  0.691984   \n",
       "      1                              -1                  0.688314   \n",
       "      2                              -1                  0.409136   \n",
       "      3                             355                  1.068689   \n",
       "      4                              -1                  0.318865   \n",
       "...                                 ...                       ...   \n",
       "49499 4                              -1                  0.998189   \n",
       "      5                              -1                  0.688496   \n",
       "      6                              -1                  0.689373   \n",
       "      7                              -1                  0.996621   \n",
       "      8                              -1                  0.995380   \n",
       "\n",
       "                Crit2_StraightTrackRatio_trackIds  \n",
       "entry subentry                                     \n",
       "0     0                                        -1  \n",
       "      1                                        -1  \n",
       "      2                                        -1  \n",
       "      3                                       355  \n",
       "      4                                        -1  \n",
       "...                                           ...  \n",
       "49499 4                                        -1  \n",
       "      5                                        -1  \n",
       "      6                                        -1  \n",
       "      7                                        -1  \n",
       "      8                                        -1  \n",
       "\n",
       "[1322934 rows x 8 columns]"
      ]
     },
     "execution_count": 6,
     "metadata": {},
     "output_type": "execute_result"
    }
   ],
   "source": [
    "Crit2"
   ]
  },
  {
   "cell_type": "code",
   "execution_count": 7,
   "metadata": {},
   "outputs": [
    {
     "data": {
      "text/html": [
       "<div>\n",
       "<style scoped>\n",
       "    .dataframe tbody tr th:only-of-type {\n",
       "        vertical-align: middle;\n",
       "    }\n",
       "\n",
       "    .dataframe tbody tr th {\n",
       "        vertical-align: top;\n",
       "    }\n",
       "\n",
       "    .dataframe thead th {\n",
       "        text-align: right;\n",
       "    }\n",
       "</style>\n",
       "<table border=\"1\" class=\"dataframe\">\n",
       "  <thead>\n",
       "    <tr style=\"text-align: right;\">\n",
       "      <th></th>\n",
       "      <th></th>\n",
       "      <th>Crit3_3DAngle</th>\n",
       "      <th>Crit3_3DAngle_trackIds</th>\n",
       "      <th>Crit3_ChangeRZRatio</th>\n",
       "      <th>Crit3_ChangeRZRatio_trackIds</th>\n",
       "      <th>Crit3_2DAngle</th>\n",
       "      <th>Crit3_2DAngle_trackIds</th>\n",
       "    </tr>\n",
       "    <tr>\n",
       "      <th>entry</th>\n",
       "      <th>subentry</th>\n",
       "      <th></th>\n",
       "      <th></th>\n",
       "      <th></th>\n",
       "      <th></th>\n",
       "      <th></th>\n",
       "      <th></th>\n",
       "    </tr>\n",
       "  </thead>\n",
       "  <tbody>\n",
       "    <tr>\n",
       "      <th rowspan=\"5\" valign=\"top\">0</th>\n",
       "      <th>0</th>\n",
       "      <td>1.279950</td>\n",
       "      <td>355</td>\n",
       "      <td>1.001022</td>\n",
       "      <td>355</td>\n",
       "      <td>12.743137</td>\n",
       "      <td>355</td>\n",
       "    </tr>\n",
       "    <tr>\n",
       "      <th>1</th>\n",
       "      <td>5.687575</td>\n",
       "      <td>-1</td>\n",
       "      <td>1.000026</td>\n",
       "      <td>-1</td>\n",
       "      <td>35.945984</td>\n",
       "      <td>-1</td>\n",
       "    </tr>\n",
       "    <tr>\n",
       "      <th>2</th>\n",
       "      <td>5.623889</td>\n",
       "      <td>-1</td>\n",
       "      <td>0.999895</td>\n",
       "      <td>-1</td>\n",
       "      <td>30.794954</td>\n",
       "      <td>-1</td>\n",
       "    </tr>\n",
       "    <tr>\n",
       "      <th>3</th>\n",
       "      <td>0.006734</td>\n",
       "      <td>364</td>\n",
       "      <td>1.000004</td>\n",
       "      <td>364</td>\n",
       "      <td>0.100589</td>\n",
       "      <td>364</td>\n",
       "    </tr>\n",
       "    <tr>\n",
       "      <th>4</th>\n",
       "      <td>0.294426</td>\n",
       "      <td>-1</td>\n",
       "      <td>0.999873</td>\n",
       "      <td>-1</td>\n",
       "      <td>5.050444</td>\n",
       "      <td>-1</td>\n",
       "    </tr>\n",
       "    <tr>\n",
       "      <th>...</th>\n",
       "      <th>...</th>\n",
       "      <td>...</td>\n",
       "      <td>...</td>\n",
       "      <td>...</td>\n",
       "      <td>...</td>\n",
       "      <td>...</td>\n",
       "      <td>...</td>\n",
       "    </tr>\n",
       "    <tr>\n",
       "      <th>49498</th>\n",
       "      <th>2</th>\n",
       "      <td>0.185218</td>\n",
       "      <td>21</td>\n",
       "      <td>1.000437</td>\n",
       "      <td>21</td>\n",
       "      <td>0.643643</td>\n",
       "      <td>21</td>\n",
       "    </tr>\n",
       "    <tr>\n",
       "      <th rowspan=\"4\" valign=\"top\">49499</th>\n",
       "      <th>0</th>\n",
       "      <td>0.035954</td>\n",
       "      <td>9</td>\n",
       "      <td>0.999926</td>\n",
       "      <td>9</td>\n",
       "      <td>0.037294</td>\n",
       "      <td>9</td>\n",
       "    </tr>\n",
       "    <tr>\n",
       "      <th>1</th>\n",
       "      <td>1.053257</td>\n",
       "      <td>-1</td>\n",
       "      <td>0.999591</td>\n",
       "      <td>-1</td>\n",
       "      <td>8.654246</td>\n",
       "      <td>-1</td>\n",
       "    </tr>\n",
       "    <tr>\n",
       "      <th>2</th>\n",
       "      <td>0.133228</td>\n",
       "      <td>-1</td>\n",
       "      <td>1.000170</td>\n",
       "      <td>-1</td>\n",
       "      <td>0.889553</td>\n",
       "      <td>-1</td>\n",
       "    </tr>\n",
       "    <tr>\n",
       "      <th>3</th>\n",
       "      <td>2.018154</td>\n",
       "      <td>-1</td>\n",
       "      <td>1.000533</td>\n",
       "      <td>-1</td>\n",
       "      <td>16.856396</td>\n",
       "      <td>-1</td>\n",
       "    </tr>\n",
       "  </tbody>\n",
       "</table>\n",
       "<p>1123483 rows × 6 columns</p>\n",
       "</div>"
      ],
      "text/plain": [
       "                Crit3_3DAngle  Crit3_3DAngle_trackIds  Crit3_ChangeRZRatio  \\\n",
       "entry subentry                                                               \n",
       "0     0              1.279950                     355             1.001022   \n",
       "      1              5.687575                      -1             1.000026   \n",
       "      2              5.623889                      -1             0.999895   \n",
       "      3              0.006734                     364             1.000004   \n",
       "      4              0.294426                      -1             0.999873   \n",
       "...                       ...                     ...                  ...   \n",
       "49498 2              0.185218                      21             1.000437   \n",
       "49499 0              0.035954                       9             0.999926   \n",
       "      1              1.053257                      -1             0.999591   \n",
       "      2              0.133228                      -1             1.000170   \n",
       "      3              2.018154                      -1             1.000533   \n",
       "\n",
       "                Crit3_ChangeRZRatio_trackIds  Crit3_2DAngle  \\\n",
       "entry subentry                                                \n",
       "0     0                                  355      12.743137   \n",
       "      1                                   -1      35.945984   \n",
       "      2                                   -1      30.794954   \n",
       "      3                                  364       0.100589   \n",
       "      4                                   -1       5.050444   \n",
       "...                                      ...            ...   \n",
       "49498 2                                   21       0.643643   \n",
       "49499 0                                    9       0.037294   \n",
       "      1                                   -1       8.654246   \n",
       "      2                                   -1       0.889553   \n",
       "      3                                   -1      16.856396   \n",
       "\n",
       "                Crit3_2DAngle_trackIds  \n",
       "entry subentry                          \n",
       "0     0                            355  \n",
       "      1                             -1  \n",
       "      2                             -1  \n",
       "      3                            364  \n",
       "      4                             -1  \n",
       "...                                ...  \n",
       "49498 2                             21  \n",
       "49499 0                              9  \n",
       "      1                             -1  \n",
       "      2                             -1  \n",
       "      3                             -1  \n",
       "\n",
       "[1123483 rows x 6 columns]"
      ]
     },
     "execution_count": 7,
     "metadata": {},
     "output_type": "execute_result"
    }
   ],
   "source": [
    "Crit3"
   ]
  },
  {
   "cell_type": "code",
   "execution_count": 8,
   "metadata": {},
   "outputs": [],
   "source": [
    "hit2_obs = {}\n",
    "hit2_obs['true'] = Crit2[['Crit2_RZRatio', 'Crit2_DeltaRho', 'Crit2_DeltaPhi', 'Crit2_StraightTrackRatio']][Crit2.Crit2_DeltaPhi_trackIds != -1]\n",
    "hit2_obs['false'] = Crit2[['Crit2_RZRatio', 'Crit2_DeltaRho', 'Crit2_DeltaPhi', 'Crit2_StraightTrackRatio']][Crit2.Crit2_DeltaPhi_trackIds == -1]"
   ]
  },
  {
   "cell_type": "code",
   "execution_count": 9,
   "metadata": {},
   "outputs": [],
   "source": [
    "hit3_obs = {}\n",
    "hit3_obs['true'] = Crit3[['Crit3_3DAngle', 'Crit3_ChangeRZRatio', 'Crit3_2DAngle']][Crit3.Crit3_3DAngle_trackIds != -1]\n",
    "hit3_obs['false'] = Crit3[['Crit3_3DAngle', 'Crit3_ChangeRZRatio', 'Crit3_2DAngle']][Crit3.Crit3_3DAngle_trackIds == -1]"
   ]
  },
  {
   "cell_type": "code",
   "execution_count": 10,
   "metadata": {},
   "outputs": [
    {
     "name": "stdout",
     "output_type": "stream",
     "text": [
      "<class 'dict'> <class 'pandas.core.frame.DataFrame'>\n"
     ]
    }
   ],
   "source": [
    "print (type(hit3_obs), type(hit3_obs['true']))"
   ]
  },
  {
   "cell_type": "code",
   "execution_count": 11,
   "metadata": {},
   "outputs": [],
   "source": [
    "X2 = np.concatenate((hit2_obs['true'], hit2_obs['false']))\n",
    "y2 = np.concatenate((np.ones(hit2_obs['true'].shape[0]),\n",
    "                    np.zeros(hit2_obs['false'].shape[0])))\n",
    "X3 = np.concatenate((hit3_obs['true'], hit3_obs['false']))\n",
    "y3 = np.concatenate((np.ones(hit3_obs['true'].shape[0]),\n",
    "                    np.zeros(hit3_obs['false'].shape[0])))"
   ]
  },
  {
   "cell_type": "markdown",
   "metadata": {},
   "source": [
    "Train & test with crit2"
   ]
  },
  {
   "cell_type": "code",
   "execution_count": 12,
   "metadata": {},
   "outputs": [],
   "source": [
    "# The Training and Testing Split, https://betatim.github.io/posts/sklearn-for-TMVA-users/\n",
    "X2_dev,X2_eval, y2_dev,y2_eval = train_test_split(X2, y2,\n",
    "                                              test_size=0.33, random_state=42)\n",
    "X2_train,X2_test, y2_train,y2_test = train_test_split(X2_dev, y2_dev,\n",
    "                                                  test_size=0.33, random_state=492)"
   ]
  },
  {
   "cell_type": "code",
   "execution_count": 13,
   "metadata": {},
   "outputs": [
    {
     "data": {
      "text/plain": [
       "AdaBoostClassifier(algorithm='SAMME',\n",
       "                   base_estimator=DecisionTreeClassifier(max_depth=3),\n",
       "                   learning_rate=0.5, n_estimators=800)"
      ]
     },
     "execution_count": 13,
     "metadata": {},
     "output_type": "execute_result"
    }
   ],
   "source": [
    "# Training Decision Trees\n",
    "dt = DecisionTreeClassifier(max_depth=3)\n",
    "bdt = AdaBoostClassifier(dt,\n",
    "                         algorithm='SAMME',\n",
    "                         n_estimators=800,\n",
    "                         learning_rate=0.5)\n",
    "\n",
    "bdt.fit(X2_train, y2_train)"
   ]
  },
  {
   "cell_type": "code",
   "execution_count": 14,
   "metadata": {},
   "outputs": [
    {
     "name": "stdout",
     "output_type": "stream",
     "text": [
      "              precision    recall  f1-score   support\n",
      "\n",
      "        fake       0.91      0.94      0.92    231134\n",
      "        real       0.74      0.66      0.69     61367\n",
      "\n",
      "    accuracy                           0.88    292501\n",
      "   macro avg       0.82      0.80      0.81    292501\n",
      "weighted avg       0.88      0.88      0.88    292501\n",
      "\n",
      "Area under ROC curve: 0.9199\n"
     ]
    }
   ],
   "source": [
    "# Assessing a Classifier's Performance\n",
    "y2_predicted = bdt.predict(X2_test)\n",
    "print (classification_report(y2_test, y2_predicted,\n",
    "                            target_names=[\"fake\", \"real\"]))\n",
    "print (\"Area under ROC curve: %.4f\"%(roc_auc_score(y2_test,\n",
    "                                                  bdt.decision_function(X2_test))))"
   ]
  },
  {
   "cell_type": "code",
   "execution_count": 15,
   "metadata": {},
   "outputs": [
    {
     "data": {
      "image/png": "[encoded data removed]",
      "text/plain": [
       "<Figure size 432x288 with 1 Axes>"
      ]
     },
     "metadata": {
      "needs_background": "light"
     },
     "output_type": "display_data"
    }
   ],
   "source": [
    "# Compute ROC curve and area under the curve\n",
    "decisions = bdt.decision_function(X2_test)\n",
    "fpr, tpr, thresholds = roc_curve(y2_test, decisions)\n",
    "roc_auc = auc(fpr, tpr)\n",
    "\n",
    "plt.plot(fpr, tpr, lw=1, label='ROC (area = %0.2f)'%(roc_auc))\n",
    "\n",
    "plt.plot([0, 1], [0, 1], '--', color=(0.6, 0.6, 0.6), label='Luck')\n",
    "plt.xlim([-0.05, 1.05])\n",
    "plt.ylim([-0.05, 1.05])\n",
    "plt.xlabel('False Positive Rate')\n",
    "plt.ylabel('True Positive Rate')\n",
    "plt.title('Receiver operating characteristic')\n",
    "plt.legend(loc=\"lower right\")\n",
    "plt.grid()\n",
    "plt.show()"
   ]
  },
  {
   "cell_type": "code",
   "execution_count": 17,
   "metadata": {},
   "outputs": [
    {
     "data": {
      "image/png": "[encoded data removed]",
      "text/plain": [
       "<Figure size 432x288 with 1 Axes>"
      ]
     },
     "metadata": {
      "needs_background": "light"
     },
     "output_type": "display_data"
    }
   ],
   "source": [
    "# Plot the two-class decision scores, https://scikit-learn.org/stable/auto_examples/ensemble/plot_adaboost_twoclass.html\n",
    "plot_colors = \"br\"\n",
    "plot_step = 0.02\n",
    "class_names = 'fake','real'\n",
    "\n",
    "plot_range = (decisions.min(), decisions.max())\n",
    "for i, n, c in zip(range(2), class_names, plot_colors):\n",
    "    plt.hist(decisions[y2_test == i],\n",
    "             bins=100,\n",
    "             range=plot_range,\n",
    "             facecolor=c,\n",
    "             label=n,\n",
    "             alpha=.5,\n",
    "             edgecolor='k')\n",
    "x1, x2, y1, y2 = plt.axis()\n",
    "plt.axis((x1, x2, y1, y2 * 1.2))\n",
    "plt.legend(loc='upper right')\n",
    "plt.ylabel('Samples')\n",
    "plt.xlabel('Score')\n",
    "plt.title('Decision Scores')\n",
    "\n",
    "plt.show()"
   ]
  },
  {
   "cell_type": "code",
   "execution_count": 20,
   "metadata": {},
   "outputs": [
    {
     "name": "stderr",
     "output_type": "stream",
     "text": [
      "<ipython-input-20-22f38b10fec6>:19: VisibleDeprecationWarning: Passing `normed=True` on non-uniform bins has always been broken, and computes neither the probability density function nor the probability mass function. The result is only correct if the bins are uniform, when density=True will produce the same result anyway. The argument will be removed in a future version of numpy.\n",
      "  hist, bins = np.histogram(decisions[2],\n",
      "<ipython-input-20-22f38b10fec6>:28: VisibleDeprecationWarning: Passing `normed=True` on non-uniform bins has always been broken, and computes neither the probability density function nor the probability mass function. The result is only correct if the bins are uniform, when density=True will produce the same result anyway. The argument will be removed in a future version of numpy.\n",
      "  hist, bins = np.histogram(decisions[3],\n"
     ]
    },
    {
     "data": {
      "image/png": "[encoded data removed]",
      "text/plain": [
       "<Figure size 432x288 with 1 Axes>"
      ]
     },
     "metadata": {
      "needs_background": "light"
     },
     "output_type": "display_data"
    }
   ],
   "source": [
    "# Overtraining Check, https://betatim.github.io/posts/sklearn-for-TMVA-users/\n",
    "def compare_train_test(clf, X_train, y_train, X_test, y_test, bins=30):\n",
    "    decisions = []\n",
    "    for X,y in ((X_train, y_train), (X_test, y_test)):\n",
    "        d1 = clf.decision_function(X[y>0.5]).ravel()\n",
    "        d2 = clf.decision_function(X[y<0.5]).ravel()\n",
    "        decisions += [d1, d2]\n",
    "        \n",
    "    low = min(np.min(d) for d in decisions)\n",
    "    high = max(np.max(d) for d in decisions)\n",
    "    low_high = (low,high)\n",
    "    \n",
    "    plt.hist(decisions[0], color='r', alpha=0.5, range=low_high, bins=bins,histtype='stepfilled', density=True,\n",
    "             label='real (train)')\n",
    "    plt.hist(decisions[1], color='b', alpha=0.5, range=low_high, bins=bins,\n",
    "             histtype='stepfilled', density=True,\n",
    "             label='fake (train)')\n",
    "\n",
    "    hist, bins = np.histogram(decisions[2],\n",
    "                              bins=bins, range=low_high, normed=True)\n",
    "    scale = len(decisions[2]) / sum(hist)\n",
    "    err = np.sqrt(hist * scale) / scale\n",
    "    \n",
    "    width = (bins[1] - bins[0])\n",
    "    center = (bins[:-1] + bins[1:]) / 2\n",
    "    plt.errorbar(center, hist, yerr=err, fmt='o', c='r', label='real (test)')\n",
    "    \n",
    "    hist, bins = np.histogram(decisions[3],\n",
    "                              bins=bins, range=low_high, normed=True)\n",
    "    scale = len(decisions[2]) / sum(hist)\n",
    "    err = np.sqrt(hist * scale) / scale\n",
    "\n",
    "    plt.errorbar(center, hist, yerr=err, fmt='o', c='b', label='fake (test)')\n",
    "\n",
    "    plt.xlabel(\"BDT output\")\n",
    "    plt.ylabel(\"Arbitrary units\")\n",
    "    plt.legend(loc='best')\n",
    "    \n",
    "compare_train_test(bdt, X2_train, y2_train, X2_test, y2_test)"
   ]
  },
  {
   "cell_type": "code",
   "execution_count": null,
   "metadata": {},
   "outputs": [],
   "source": []
  },
  {
   "cell_type": "code",
   "execution_count": 19,
   "metadata": {},
   "outputs": [],
   "source": [
    "#skTMVA converter, https://github.com/yuraic/koza4ok\n",
    "convert_bdt_sklearn_tmva(bdt, [('Crit2_RZRatio', 'F'), ('Crit2_DeltaRho', 'F'), ('Crit2_DeltaPhi', 'F'), ('Crit2_StraightTrackRatio', 'F')], 'crit2.xml')"
   ]
  },
  {
   "cell_type": "markdown",
   "metadata": {},
   "source": [
    "Train and test with crit3"
   ]
  },
  {
   "cell_type": "code",
   "execution_count": 20,
   "metadata": {},
   "outputs": [],
   "source": [
    "X3_dev,X3_eval, y3_dev,y3_eval = train_test_split(X3, y3,\n",
    "                                              test_size=0.33, random_state=42)\n",
    "X3_train,X3_test, y3_train,y3_test = train_test_split(X3_dev, y3_dev,\n",
    "                                                  test_size=0.33, random_state=492)"
   ]
  },
  {
   "cell_type": "code",
   "execution_count": 21,
   "metadata": {},
   "outputs": [
    {
     "data": {
      "text/plain": [
       "AdaBoostClassifier(algorithm='SAMME',\n",
       "                   base_estimator=DecisionTreeClassifier(max_depth=3),\n",
       "                   learning_rate=0.5, n_estimators=800)"
      ]
     },
     "execution_count": 21,
     "metadata": {},
     "output_type": "execute_result"
    }
   ],
   "source": [
    "dt = DecisionTreeClassifier(max_depth=3)\n",
    "bdt = AdaBoostClassifier(dt,\n",
    "                         algorithm='SAMME',\n",
    "                         n_estimators=800,\n",
    "                         learning_rate=0.5)\n",
    "\n",
    "bdt.fit(X3_train, y3_train)"
   ]
  },
  {
   "cell_type": "code",
   "execution_count": 22,
   "metadata": {},
   "outputs": [
    {
     "name": "stdout",
     "output_type": "stream",
     "text": [
      "              precision    recall  f1-score   support\n",
      "\n",
      "        fake       0.97      0.97      0.97    215656\n",
      "        real       0.82      0.80      0.81     32746\n",
      "\n",
      "    accuracy                           0.95    248402\n",
      "   macro avg       0.89      0.89      0.89    248402\n",
      "weighted avg       0.95      0.95      0.95    248402\n",
      "\n",
      "Area under ROC curve: 0.9680\n"
     ]
    }
   ],
   "source": [
    "y3_predicted = bdt.predict(X3_test)\n",
    "print (classification_report(y3_test, y3_predicted,\n",
    "                            target_names=[\"fake\", \"real\"]))\n",
    "print (\"Area under ROC curve: %.4f\"%(roc_auc_score(y3_test,\n",
    "                                                  bdt.decision_function(X3_test))))"
   ]
  },
  {
   "cell_type": "code",
   "execution_count": 31,
   "metadata": {},
   "outputs": [
    {
     "data": {
      "image/png": "[encoded data removed]",
      "text/plain": [
       "<Figure size 432x288 with 1 Axes>"
      ]
     },
     "metadata": {
      "needs_background": "light"
     },
     "output_type": "display_data"
    }
   ],
   "source": [
    "decisions = bdt.decision_function(X3_test)\n",
    "fpr, tpr, thresholds = roc_curve(y3_test, decisions)\n",
    "roc_auc = auc(fpr, tpr)\n",
    "\n",
    "plt.plot(fpr, tpr, lw=1, label='ROC (area = %0.2f)'%(roc_auc))\n",
    "\n",
    "plt.plot([0, 1], [0, 1], '--', color=(0.6, 0.6, 0.6), label='Luck')\n",
    "plt.xlim([-0.05, 1.05])\n",
    "plt.ylim([-0.05, 1.05])\n",
    "plt.xlabel('False Positive Rate')\n",
    "plt.ylabel('True Positive Rate')\n",
    "plt.title('Receiver operating characteristic')\n",
    "plt.legend(loc=\"lower right\")\n",
    "plt.grid()\n",
    "plt.show()"
   ]
  },
  {
   "cell_type": "code",
   "execution_count": 24,
   "metadata": {},
   "outputs": [
    {
     "data": {
      "image/png": "[encoded data removed]",
      "text/plain": [
       "<Figure size 432x288 with 1 Axes>"
      ]
     },
     "metadata": {
      "needs_background": "light"
     },
     "output_type": "display_data"
    }
   ],
   "source": [
    "plot_colors = \"br\"\n",
    "\n",
    "class_names = 'fake','real'\n",
    "\n",
    "plot_range = (decisions.min(), decisions.max())\n",
    "for i, n, c in zip(range(2), class_names, plot_colors):\n",
    "    plt.hist(decisions[y3_test == i],\n",
    "             bins=100,\n",
    "             range=plot_range,\n",
    "             facecolor=c,\n",
    "             label=n,\n",
    "             alpha=.5,\n",
    "             edgecolor='k')\n",
    "\n",
    "plt.legend(loc='upper right')\n",
    "plt.ylabel('Samples')\n",
    "plt.xlabel('Score')\n",
    "plt.title('Decision Scores')\n",
    "\n",
    "plt.show()"
   ]
  },
  {
   "cell_type": "code",
   "execution_count": null,
   "metadata": {},
   "outputs": [],
   "source": []
  },
  {
   "cell_type": "code",
   "execution_count": null,
   "metadata": {},
   "outputs": [],
   "source": [
    "convert_bdt_sklearn_tmva(bdt, [('Crit3_3DAngle', 'F'), ('Crit3_ChangeRZRatio', 'F'), ('Crit3_2DAngle', 'F')], 'crit3.xml')"
   ]
  }
 ],
 "metadata": {
  "kernelspec": {
   "display_name": "Python 3",
   "language": "python",
   "name": "python3"
  },
  "language_info": {
   "codemirror_mode": {
    "name": "ipython",
    "version": 3
   },
   "file_extension": ".py",
   "mimetype": "text/x-python",
   "name": "python",
   "nbconvert_exporter": "python",
   "pygments_lexer": "ipython3",
   "version": "3.8.6"
  }
 },
 "nbformat": 4,
 "nbformat_minor": 4
}
