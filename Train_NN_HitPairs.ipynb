{
 "cells": [
  {
   "cell_type": "code",
   "execution_count": 1,
   "metadata": {},
   "outputs": [],
   "source": [
    "import numpy as np\n",
    "import uproot\n",
    "import math"
   ]
  },
  {
   "cell_type": "code",
   "execution_count": 2,
   "metadata": {},
   "outputs": [],
   "source": [
    "tree = uproot.open( \"~/seed_1C0B_mltree.root:Stg\" )"
   ]
  },
  {
   "cell_type": "code",
   "execution_count": 3,
   "metadata": {},
   "outputs": [],
   "source": [
    "import matplotlib.pyplot as plt\n",
    "fs = ( 16, 9 ) # lets make all our figures 16 by 9"
   ]
  },
  {
   "cell_type": "code",
   "execution_count": 4,
   "metadata": {},
   "outputs": [],
   "source": [
    "xyzxyzt = tree.arrays( [ \"Crit2_RZRatio_x1\", \"Crit2_RZRatio_y1\", \"Crit2_RZRatio_z1\", \"Crit2_RZRatio_x2\", \"Crit2_RZRatio_y2\", \"Crit2_RZRatio_z2\", \"Crit2_RZRatio_trackIds\" ], library='np'  )"
   ]
  },
  {
   "cell_type": "code",
   "execution_count": 10,
   "metadata": {},
   "outputs": [],
   "source": [
    "from tensorflow.python.keras.models import Sequential\n",
    "from tensorflow.python.keras.layers import Dense\n",
    "from tensorflow.python.keras.wrappers.scikit_learn import KerasRegressor\n",
    "import os"
   ]
  },
  {
   "cell_type": "code",
   "execution_count": 5,
   "metadata": {},
   "outputs": [],
   "source": [
    "x1 = xyzxyzt['Crit2_RZRatio_x1']\n",
    "y1 = xyzxyzt['Crit2_RZRatio_y1']\n",
    "z1 = xyzxyzt['Crit2_RZRatio_z1']\n",
    "x2 = xyzxyzt['Crit2_RZRatio_x2']\n",
    "y2 = xyzxyzt['Crit2_RZRatio_y2']\n",
    "z2 = xyzxyzt['Crit2_RZRatio_z2']\n",
    "tid = xyzxyzt['Crit2_RZRatio_trackIds']"
   ]
  },
  {
   "cell_type": "code",
   "execution_count": 6,
   "metadata": {},
   "outputs": [
    {
     "name": "stdout",
     "output_type": "stream",
     "text": [
      "20000\n",
      "177\n",
      "177\n",
      "177\n",
      "177\n",
      "177\n",
      "177\n",
      "177\n"
     ]
    }
   ],
   "source": [
    "# Check the lengths\n",
    "iEvent = 120\n",
    "print( len(x1))\n",
    "print( len(x1[iEvent]) )\n",
    "print( len(y1[iEvent]) )\n",
    "print( len(z1[iEvent]) )\n",
    "print( len(x2[iEvent]) )\n",
    "print( len(y2[iEvent]) )\n",
    "print( len(z2[iEvent]) )\n",
    "print( len(tid[iEvent]) )"
   ]
  },
  {
   "cell_type": "markdown",
   "metadata": {},
   "source": [
    "## Train with (x,y,z,x,y,z)"
   ]
  },
  {
   "cell_type": "code",
   "execution_count": null,
   "metadata": {},
   "outputs": [],
   "source": [
    "%%time\n",
    "\n",
    "X = [[], [], [], [], [], []]\n",
    "Y = []\n",
    "\n",
    "print(len(X[1]))\n",
    "print(len(Y))\n",
    "\n",
    "# build up 1d arrays for training\n",
    "for iEvent in np.arange( 0, len(x1) ) :\n",
    "    for i in np.arange( 0, len(x1[iEvent]) ) :\n",
    "        X[0].append( x1[iEvent][i] )\n",
    "        X[1].append( y1[iEvent][i] )\n",
    "        X[2].append( z1[iEvent][i] )\n",
    "        \n",
    "        X[3].append( x2[iEvent][i] )\n",
    "        X[4].append( y2[iEvent][i] )\n",
    "        X[5].append( z2[iEvent][i] )\n",
    "        \n",
    "        if tid[iEvent][i] > 0 :\n",
    "            Y.append( 1 )\n",
    "        else :\n",
    "            Y.append( 0 )\n",
    "            \n"
   ]
  },
  {
   "cell_type": "markdown",
   "metadata": {},
   "source": [
    "## Train with (x,y) (dx,dy)\n",
    "adjust model input accordingly"
   ]
  },
  {
   "cell_type": "code",
   "execution_count": 22,
   "metadata": {},
   "outputs": [
    {
     "name": "stdout",
     "output_type": "stream",
     "text": [
      "0\n",
      "0\n",
      "CPU times: user 43.5 s, sys: 1.22 s, total: 44.7 s\n",
      "Wall time: 45.1 s\n"
     ]
    }
   ],
   "source": [
    "%%time\n",
    "\n",
    "X = [[], [], [], [] ]\n",
    "Y = []\n",
    "\n",
    "print(len(X[1]))\n",
    "print(len(Y))\n",
    "\n",
    "# build up 1d arrays for training\n",
    "for iEvent in np.arange( 0, len(x1) ) :\n",
    "    for i in np.arange( 0, len(x1[iEvent]) ) :\n",
    "        X[0].append( x1[iEvent][i] )\n",
    "        X[1].append( y1[iEvent][i] )\n",
    "\n",
    "        X[2].append( x2[iEvent][i] - x1[iEvent][i] )\n",
    "        X[3].append( y2[iEvent][i] - y1[iEvent][i] )\n",
    "        \n",
    "        if tid[iEvent][i] > 0 :\n",
    "            Y.append( 1 )\n",
    "        else :\n",
    "            Y.append( 0 )\n",
    "            \n"
   ]
  },
  {
   "cell_type": "markdown",
   "metadata": {},
   "source": [
    "## Train with (dr, dphi, dz)"
   ]
  },
  {
   "cell_type": "code",
   "execution_count": 61,
   "metadata": {},
   "outputs": [
    {
     "name": "stdout",
     "output_type": "stream",
     "text": [
      "0\n",
      "0\n",
      "CPU times: user 1min 28s, sys: 1.12 s, total: 1min 29s\n",
      "Wall time: 1min 30s\n"
     ]
    }
   ],
   "source": [
    "%%time\n",
    "\n",
    "\n",
    "\n",
    "X = [[], [], [] ]\n",
    "Y = []\n",
    "\n",
    "print(len(X[1]))\n",
    "print(len(Y))\n",
    "\n",
    "\n",
    "\n",
    "# build up 1d arrays for training\n",
    "for iEvent in np.arange( 0, len(x1) ) :\n",
    "    for i in np.arange( 0, len(x1[iEvent]) ) :\n",
    "        phi1 = math.atan2( y1[iEvent][i], x1[iEvent][i] )\n",
    "        phi2 = math.atan2( y2[iEvent][i], x2[iEvent][i] )\n",
    "        dphi = math.atan2(math.sin(phi1-phi2), math.cos(phi1-phi2))\n",
    "        \n",
    "        r1 = math.sqrt( x1[iEvent][i]*x1[iEvent][i] + y1[iEvent][i]*y1[iEvent][i] )\n",
    "        r2 = math.sqrt( x2[iEvent][i]*x2[iEvent][i] + y2[iEvent][i]*y2[iEvent][i] )\n",
    "        dr = r1 - r2\n",
    "        X[0].append( dphi )\n",
    "        X[1].append( dr )\n",
    "        X[2].append( z2[iEvent][i] - z1[iEvent][i] )\n",
    "        \n",
    "        if tid[iEvent][i] > 0 :\n",
    "            Y.append( 1 )\n",
    "        else :\n",
    "            Y.append( 0 )\n",
    "            \n"
   ]
  },
  {
   "cell_type": "code",
   "execution_count": 62,
   "metadata": {},
   "outputs": [
    {
     "name": "stdout",
     "output_type": "stream",
     "text": [
      "12877245\n",
      "12877245\n"
     ]
    }
   ],
   "source": [
    "print(len(X[0]))\n",
    "print(len(Y))"
   ]
  },
  {
   "cell_type": "code",
   "execution_count": 63,
   "metadata": {},
   "outputs": [],
   "source": [
    "train_X = np.transpose( np.array( X ))\n",
    "train_Y = np.array( Y )"
   ]
  },
  {
   "cell_type": "code",
   "execution_count": 64,
   "metadata": {},
   "outputs": [
    {
     "name": "stdout",
     "output_type": "stream",
     "text": [
      "X= (12877245, 3)\n",
      "Y= (12877245,)\n"
     ]
    }
   ],
   "source": [
    "print( \"X=\", train_X.shape )\n",
    "print( \"Y=\", train_Y.shape )"
   ]
  },
  {
   "cell_type": "code",
   "execution_count": 71,
   "metadata": {},
   "outputs": [],
   "source": [
    "def build_model() :\n",
    "    model = Sequential()\n",
    "    model.add(Dense(12, input_dim=3, kernel_initializer='normal', activation='relu'))\n",
    "#     model.add(Dense(12, activation='relu'))\n",
    "#     model.add(Dense(12, activation='relu'))\n",
    "    model.add(Dense(1))\n",
    "    model.summary()\n",
    "    return model"
   ]
  },
  {
   "cell_type": "code",
   "execution_count": 72,
   "metadata": {},
   "outputs": [
    {
     "name": "stdout",
     "output_type": "stream",
     "text": [
      "Model: \"sequential_8\"\n",
      "_________________________________________________________________\n",
      "Layer (type)                 Output Shape              Param #   \n",
      "=================================================================\n",
      "dense_32 (Dense)             (None, 12)                48        \n",
      "_________________________________________________________________\n",
      "dense_33 (Dense)             (None, 1)                 13        \n",
      "=================================================================\n",
      "Total params: 61\n",
      "Trainable params: 61\n",
      "Non-trainable params: 0\n",
      "_________________________________________________________________\n"
     ]
    }
   ],
   "source": [
    "# Get the model built in the function above\n",
    "model = build_model()\n",
    "# compile the model and set the loss function, optimizer and metrics to check during training.\n",
    "model.compile(loss='huber_loss', optimizer='adam', metrics=['mse','mae'])"
   ]
  },
  {
   "cell_type": "code",
   "execution_count": 76,
   "metadata": {},
   "outputs": [
    {
     "name": "stdout",
     "output_type": "stream",
     "text": [
      "Epoch 1/2\n",
      "643863/643863 [==============================] - 565s 877us/step - loss: 0.0146 - mse: 0.0293 - mae: 0.0839 - val_loss: 0.0143 - val_mse: 0.0287 - val_mae: 0.0755\n",
      "Epoch 2/2\n",
      "643863/643863 [==============================] - 547s 849us/step - loss: 0.0142 - mse: 0.0284 - mae: 0.0829 - val_loss: 0.0141 - val_mse: 0.0283 - val_mae: 0.0778\n",
      "CPU times: user 25min 29s, sys: 3min 4s, total: 28min 34s\n",
      "Wall time: 18min 32s\n"
     ]
    }
   ],
   "source": [
    "%%time\n",
    "history = model.fit(train_X, train_Y, epochs=2, batch_size=10,  verbose=1, validation_split=0.5)"
   ]
  },
  {
   "cell_type": "code",
   "execution_count": 75,
   "metadata": {},
   "outputs": [
    {
     "name": "stdout",
     "output_type": "stream",
     "text": [
      "dict_keys(['loss', 'mse', 'mae', 'val_loss', 'val_mse', 'val_mae'])\n"
     ]
    },
    {
     "data": {
      "image/png": "[encoded data removed]",
      "text/plain": [
       "<Figure size 1152x648 with 1 Axes>"
      ]
     },
     "metadata": {
      "needs_background": "light"
     },
     "output_type": "display_data"
    }
   ],
   "source": [
    "plt.figure(figsize=fs)\n",
    "print(history.history.keys())\n",
    "# \"Loss\"\n",
    "plt.plot(history.history['loss'], linewidth=3)\n",
    "plt.plot(history.history['val_loss'], linewidth=3)\n",
    "plt.title('model loss')\n",
    "plt.ylabel('loss')\n",
    "plt.xlabel('epoch')\n",
    "plt.legend(['train', 'validation'], loc='upper right', prop={'size': 70})\n",
    "# plt.gca().set_ylim((0, 1))\n",
    "plt.semilogy()\n",
    "plt.show()"
   ]
  },
  {
   "cell_type": "code",
   "execution_count": 69,
   "metadata": {},
   "outputs": [],
   "source": [
    "pred_Y = np.array(model.predict(train_X[:40000]))"
   ]
  },
  {
   "cell_type": "code",
   "execution_count": 70,
   "metadata": {},
   "outputs": [
    {
     "data": {
      "image/png": "[encoded data removed]",
      "text/plain": [
       "<Figure size 1152x648 with 1 Axes>"
      ]
     },
     "metadata": {
      "needs_background": "light"
     },
     "output_type": "display_data"
    }
   ],
   "source": [
    "plt.figure(figsize=fs)\n",
    "plt.hist( [ y0[0] for y0, y1 in zip(pred_Y[:40000], train_Y[:40000]) if y1 == 0 ], bins=np.linspace( 0, 1.0, 100 ), alpha=0.5 )\n",
    "plt.hist( [ y0[0] for y0, y1 in zip(pred_Y[:40000], train_Y[:40000]) if y1 == 1 ], bins=np.linspace( 0, 1.0, 100 ), alpha=0.5 )\n",
    "plt.semilogy()\n",
    "plt.show()"
   ]
  },
  {
   "cell_type": "code",
   "execution_count": 43,
   "metadata": {},
   "outputs": [],
   "source": [
    "import tensorflow.python.keras as k"
   ]
  },
  {
   "cell_type": "code",
   "execution_count": 45,
   "metadata": {},
   "outputs": [
    {
     "data": {
      "text/plain": [
       "['BCE',\n",
       " 'BinaryCrossentropy',\n",
       " 'CategoricalCrossentropy',\n",
       " 'CategoricalHinge',\n",
       " 'CosineSimilarity',\n",
       " 'Hinge',\n",
       " 'Huber',\n",
       " 'K',\n",
       " 'KLD',\n",
       " 'KLDivergence',\n",
       " 'LABEL_DTYPES_FOR_LOSSES',\n",
       " 'LogCosh',\n",
       " 'Loss',\n",
       " 'LossFunctionWrapper',\n",
       " 'MAE',\n",
       " 'MAPE',\n",
       " 'MSE',\n",
       " 'MSLE',\n",
       " 'MeanAbsoluteError',\n",
       " 'MeanAbsolutePercentageError',\n",
       " 'MeanSquaredError',\n",
       " 'MeanSquaredLogarithmicError',\n",
       " 'Poisson',\n",
       " 'SparseCategoricalCrossentropy',\n",
       " 'SquaredHinge',\n",
       " '__builtins__',\n",
       " '__cached__',\n",
       " '__doc__',\n",
       " '__file__',\n",
       " '__loader__',\n",
       " '__name__',\n",
       " '__package__',\n",
       " '__spec__',\n",
       " '_maybe_convert_labels',\n",
       " 'abc',\n",
       " 'absolute_import',\n",
       " 'ag_ctx',\n",
       " 'array_ops',\n",
       " 'autograph',\n",
       " 'bce',\n",
       " 'binary_crossentropy',\n",
       " 'categorical_crossentropy',\n",
       " 'categorical_hinge',\n",
       " 'context',\n",
       " 'cosine_similarity',\n",
       " 'deserialize',\n",
       " 'deserialize_keras_object',\n",
       " 'dispatch',\n",
       " 'distribution_strategy_context',\n",
       " 'division',\n",
       " 'doc_controls',\n",
       " 'get',\n",
       " 'hinge',\n",
       " 'huber',\n",
       " 'huber_loss',\n",
       " 'is_categorical_crossentropy',\n",
       " 'keras_export',\n",
       " 'kl_divergence',\n",
       " 'kld',\n",
       " 'kullback_leibler_divergence',\n",
       " 'log_cosh',\n",
       " 'logcosh',\n",
       " 'losses_impl',\n",
       " 'losses_utils',\n",
       " 'mae',\n",
       " 'mape',\n",
       " 'math_ops',\n",
       " 'mean_absolute_error',\n",
       " 'mean_absolute_percentage_error',\n",
       " 'mean_squared_error',\n",
       " 'mean_squared_logarithmic_error',\n",
       " 'mse',\n",
       " 'msle',\n",
       " 'nn',\n",
       " 'ops',\n",
       " 'poisson',\n",
       " 'print_function',\n",
       " 'serialize',\n",
       " 'serialize_keras_object',\n",
       " 'six',\n",
       " 'smart_cond',\n",
       " 'sparse_categorical_crossentropy',\n",
       " 'squared_hinge',\n",
       " 'tensor_util',\n",
       " 'tf_utils']"
      ]
     },
     "execution_count": 45,
     "metadata": {},
     "output_type": "execute_result"
    }
   ],
   "source": [
    "dir(k.losses)"
   ]
  },
  {
   "cell_type": "code",
   "execution_count": 59,
   "metadata": {},
   "outputs": [],
   "source": [
    "import math"
   ]
  },
  {
   "cell_type": "code",
   "execution_count": null,
   "metadata": {},
   "outputs": [],
   "source": []
  }
 ],
 "metadata": {
  "kernelspec": {
   "display_name": "py38",
   "language": "python",
   "name": "py38"
  },
  "language_info": {
   "codemirror_mode": {
    "name": "ipython",
    "version": 3
   },
   "file_extension": ".py",
   "mimetype": "text/x-python",
   "name": "python",
   "nbconvert_exporter": "python",
   "pygments_lexer": "ipython3",
   "version": "3.8.5"
  }
 },
 "nbformat": 4,
 "nbformat_minor": 4
}
