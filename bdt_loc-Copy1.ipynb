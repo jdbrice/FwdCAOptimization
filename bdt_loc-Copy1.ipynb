{
 "cells": [
  {
   "cell_type": "code",
   "execution_count": 1,
   "metadata": {},
   "outputs": [],
   "source": [
    "import sys\n",
    "sys.path.append('/gpfs/loomis/home.grace/ys668/software/koza4ok')\n",
    "import uproot4 as uproot\n",
    "import math\n",
    "import importlib\n",
    "import matplotlib.pyplot as plt\n",
    "import matplotlib.colors as colors\n",
    "from matplotlib import cm\n",
    "from mpl_toolkits.mplot3d import axes3d\n",
    "import pandas as pd\n",
    "import numpy as np\n",
    "from sklearn.ensemble import AdaBoostClassifier, GradientBoostingClassifier\n",
    "from sklearn.model_selection import KFold, train_test_split\n",
    "from sklearn import datasets\n",
    "from sklearn.tree import DecisionTreeClassifier\n",
    "from sklearn.metrics import classification_report, roc_auc_score, auc, roc_curve, precision_recall_curve, plot_precision_recall_curve\n",
    "from skTMVA import convert_bdt_sklearn_tmva\n",
    "from joblib import dump, load\n",
    "import pickle"
   ]
  },
  {
   "cell_type": "code",
   "execution_count": 2,
   "metadata": {},
   "outputs": [],
   "source": [
    "mltreeroot = uproot.open(\"/gpfs/loomis/home.grace/ys668/output/seed_1C0B_mltree.root\" )\n",
    "mltree = mltreeroot[\"Stg\"]"
   ]
  },
  {
   "cell_type": "code",
   "execution_count": 3,
   "metadata": {},
   "outputs": [],
   "source": [
    "loc = mltree.arrays( [ \"Crit2_RZRatio_x1\", \"Crit2_RZRatio_y1\", \"Crit2_RZRatio_z1\", \"Crit2_RZRatio_x2\", \"Crit2_RZRatio_y2\",\\\n",
    "                      \"Crit2_RZRatio_z2\", \"Crit2_RZRatio_trackIds\" ], library='pd')"
   ]
  },
  {
   "cell_type": "code",
   "execution_count": 4,
   "metadata": {},
   "outputs": [
    {
     "data": {
      "text/html": [
       "<div>\n",
       "<style scoped>\n",
       "    .dataframe tbody tr th:only-of-type {\n",
       "        vertical-align: middle;\n",
       "    }\n",
       "\n",
       "    .dataframe tbody tr th {\n",
       "        vertical-align: top;\n",
       "    }\n",
       "\n",
       "    .dataframe thead th {\n",
       "        text-align: right;\n",
       "    }\n",
       "</style>\n",
       "<table border=\"1\" class=\"dataframe\">\n",
       "  <thead>\n",
       "    <tr style=\"text-align: right;\">\n",
       "      <th></th>\n",
       "      <th></th>\n",
       "      <th>Crit2_RZRatio_x1</th>\n",
       "      <th>Crit2_RZRatio_y1</th>\n",
       "      <th>Crit2_RZRatio_z1</th>\n",
       "      <th>Crit2_RZRatio_x2</th>\n",
       "      <th>Crit2_RZRatio_y2</th>\n",
       "      <th>Crit2_RZRatio_z2</th>\n",
       "      <th>Crit2_RZRatio_trackIds</th>\n",
       "    </tr>\n",
       "    <tr>\n",
       "      <th>entry</th>\n",
       "      <th>subentry</th>\n",
       "      <th></th>\n",
       "      <th></th>\n",
       "      <th></th>\n",
       "      <th></th>\n",
       "      <th></th>\n",
       "      <th></th>\n",
       "      <th></th>\n",
       "    </tr>\n",
       "  </thead>\n",
       "  <tbody>\n",
       "    <tr>\n",
       "      <th rowspan=\"5\" valign=\"top\">0</th>\n",
       "      <th>0</th>\n",
       "      <td>-0.935607</td>\n",
       "      <td>25.021116</td>\n",
       "      <td>303.704987</td>\n",
       "      <td>-45.055008</td>\n",
       "      <td>26.090652</td>\n",
       "      <td>280.904999</td>\n",
       "      <td>-1</td>\n",
       "    </tr>\n",
       "    <tr>\n",
       "      <th>1</th>\n",
       "      <td>-0.935607</td>\n",
       "      <td>25.021116</td>\n",
       "      <td>303.704987</td>\n",
       "      <td>-0.917182</td>\n",
       "      <td>23.294699</td>\n",
       "      <td>280.904999</td>\n",
       "      <td>37</td>\n",
       "    </tr>\n",
       "    <tr>\n",
       "      <th>2</th>\n",
       "      <td>-0.935607</td>\n",
       "      <td>25.021116</td>\n",
       "      <td>303.704987</td>\n",
       "      <td>7.543242</td>\n",
       "      <td>20.994434</td>\n",
       "      <td>280.904999</td>\n",
       "      <td>-1</td>\n",
       "    </tr>\n",
       "    <tr>\n",
       "      <th>3</th>\n",
       "      <td>-0.935607</td>\n",
       "      <td>25.021116</td>\n",
       "      <td>303.704987</td>\n",
       "      <td>14.245992</td>\n",
       "      <td>18.194252</td>\n",
       "      <td>280.904999</td>\n",
       "      <td>-1</td>\n",
       "    </tr>\n",
       "    <tr>\n",
       "      <th>4</th>\n",
       "      <td>-0.935607</td>\n",
       "      <td>25.021116</td>\n",
       "      <td>303.704987</td>\n",
       "      <td>-39.714920</td>\n",
       "      <td>-25.209108</td>\n",
       "      <td>280.904999</td>\n",
       "      <td>-1</td>\n",
       "    </tr>\n",
       "    <tr>\n",
       "      <th>...</th>\n",
       "      <th>...</th>\n",
       "      <td>...</td>\n",
       "      <td>...</td>\n",
       "      <td>...</td>\n",
       "      <td>...</td>\n",
       "      <td>...</td>\n",
       "      <td>...</td>\n",
       "      <td>...</td>\n",
       "    </tr>\n",
       "    <tr>\n",
       "      <th rowspan=\"5\" valign=\"top\">19999</th>\n",
       "      <th>717</th>\n",
       "      <td>10.665518</td>\n",
       "      <td>3.714659</td>\n",
       "      <td>349.404999</td>\n",
       "      <td>33.661144</td>\n",
       "      <td>-14.316016</td>\n",
       "      <td>326.605011</td>\n",
       "      <td>-1</td>\n",
       "    </tr>\n",
       "    <tr>\n",
       "      <th>718</th>\n",
       "      <td>10.665518</td>\n",
       "      <td>3.714659</td>\n",
       "      <td>349.404999</td>\n",
       "      <td>13.254014</td>\n",
       "      <td>-9.626814</td>\n",
       "      <td>326.605011</td>\n",
       "      <td>-1</td>\n",
       "    </tr>\n",
       "    <tr>\n",
       "      <th>719</th>\n",
       "      <td>10.665518</td>\n",
       "      <td>3.714659</td>\n",
       "      <td>349.404999</td>\n",
       "      <td>13.012218</td>\n",
       "      <td>-10.416829</td>\n",
       "      <td>326.885010</td>\n",
       "      <td>-1</td>\n",
       "    </tr>\n",
       "    <tr>\n",
       "      <th>720</th>\n",
       "      <td>10.665518</td>\n",
       "      <td>3.714659</td>\n",
       "      <td>349.404999</td>\n",
       "      <td>24.579853</td>\n",
       "      <td>-2.190582</td>\n",
       "      <td>326.605011</td>\n",
       "      <td>-1</td>\n",
       "    </tr>\n",
       "    <tr>\n",
       "      <th>721</th>\n",
       "      <td>10.665518</td>\n",
       "      <td>3.714659</td>\n",
       "      <td>349.404999</td>\n",
       "      <td>36.045284</td>\n",
       "      <td>-44.976093</td>\n",
       "      <td>326.605011</td>\n",
       "      <td>-1</td>\n",
       "    </tr>\n",
       "  </tbody>\n",
       "</table>\n",
       "<p>12877245 rows × 7 columns</p>\n",
       "</div>"
      ],
      "text/plain": [
       "                Crit2_RZRatio_x1  Crit2_RZRatio_y1  Crit2_RZRatio_z1  \\\n",
       "entry subentry                                                         \n",
       "0     0                -0.935607         25.021116        303.704987   \n",
       "      1                -0.935607         25.021116        303.704987   \n",
       "      2                -0.935607         25.021116        303.704987   \n",
       "      3                -0.935607         25.021116        303.704987   \n",
       "      4                -0.935607         25.021116        303.704987   \n",
       "...                          ...               ...               ...   \n",
       "19999 717              10.665518          3.714659        349.404999   \n",
       "      718              10.665518          3.714659        349.404999   \n",
       "      719              10.665518          3.714659        349.404999   \n",
       "      720              10.665518          3.714659        349.404999   \n",
       "      721              10.665518          3.714659        349.404999   \n",
       "\n",
       "                Crit2_RZRatio_x2  Crit2_RZRatio_y2  Crit2_RZRatio_z2  \\\n",
       "entry subentry                                                         \n",
       "0     0               -45.055008         26.090652        280.904999   \n",
       "      1                -0.917182         23.294699        280.904999   \n",
       "      2                 7.543242         20.994434        280.904999   \n",
       "      3                14.245992         18.194252        280.904999   \n",
       "      4               -39.714920        -25.209108        280.904999   \n",
       "...                          ...               ...               ...   \n",
       "19999 717              33.661144        -14.316016        326.605011   \n",
       "      718              13.254014         -9.626814        326.605011   \n",
       "      719              13.012218        -10.416829        326.885010   \n",
       "      720              24.579853         -2.190582        326.605011   \n",
       "      721              36.045284        -44.976093        326.605011   \n",
       "\n",
       "                Crit2_RZRatio_trackIds  \n",
       "entry subentry                          \n",
       "0     0                             -1  \n",
       "      1                             37  \n",
       "      2                             -1  \n",
       "      3                             -1  \n",
       "      4                             -1  \n",
       "...                                ...  \n",
       "19999 717                           -1  \n",
       "      718                           -1  \n",
       "      719                           -1  \n",
       "      720                           -1  \n",
       "      721                           -1  \n",
       "\n",
       "[12877245 rows x 7 columns]"
      ]
     },
     "execution_count": 4,
     "metadata": {},
     "output_type": "execute_result"
    }
   ],
   "source": [
    "loc"
   ]
  },
  {
   "cell_type": "code",
   "execution_count": 5,
   "metadata": {},
   "outputs": [],
   "source": [
    "hit2_obs = {}\n",
    "hit2_obs['true'] = loc[[ \"Crit2_RZRatio_x1\", \"Crit2_RZRatio_y1\", \"Crit2_RZRatio_z1\", \"Crit2_RZRatio_x2\", \"Crit2_RZRatio_y2\", \"Crit2_RZRatio_z2\"]][loc.Crit2_RZRatio_trackIds != -1]\n",
    "hit2_obs['false'] = loc[[ \"Crit2_RZRatio_x1\", \"Crit2_RZRatio_y1\", \"Crit2_RZRatio_z1\", \"Crit2_RZRatio_x2\", \"Crit2_RZRatio_y2\", \"Crit2_RZRatio_z2\"]][loc.Crit2_RZRatio_trackIds == -1]"
   ]
  },
  {
   "cell_type": "code",
   "execution_count": 6,
   "metadata": {},
   "outputs": [],
   "source": [
    "X2 = np.concatenate((hit2_obs['true'], hit2_obs['false']))\n",
    "y2 = np.concatenate((np.ones(hit2_obs['true'].shape[0]),\n",
    "                    np.zeros(hit2_obs['false'].shape[0])))"
   ]
  },
  {
   "cell_type": "code",
   "execution_count": 7,
   "metadata": {},
   "outputs": [],
   "source": [
    "X2_dev,X2_eval, y2_dev,y2_eval = train_test_split(X2, y2, test_size=0.33, random_state=42)\n",
    "X2_train,X2_test, y2_train,y2_test = train_test_split(X2_dev, y2_dev, test_size=0.33, random_state=492)"
   ]
  },
  {
   "cell_type": "code",
   "execution_count": null,
   "metadata": {},
   "outputs": [],
   "source": [
    "dt = DecisionTreeClassifier(max_depth=3)\n",
    "bdt2 = AdaBoostClassifier(dt,\n",
    "                         algorithm='SAMME',\n",
    "                         n_estimators=800,\n",
    "                         learning_rate=0.5)\n",
    "\n",
    "bdt2.fit(X2_train, y2_train)"
   ]
  },
  {
   "cell_type": "code",
   "execution_count": 8,
   "metadata": {},
   "outputs": [],
   "source": [
    "filename = 'bdt2_loc.sav'\n",
    "bdt2 = pickle.load(open(filename, 'rb'))"
   ]
  },
  {
   "cell_type": "code",
   "execution_count": 9,
   "metadata": {
    "scrolled": true
   },
   "outputs": [
    {
     "name": "stderr",
     "output_type": "stream",
     "text": [
      "/gpfs/loomis/project/caines/ys668/conda_envs/my_env/lib/python3.8/site-packages/sklearn/metrics/_classification.py:1221: UndefinedMetricWarning: Precision and F-score are ill-defined and being set to 0.0 in labels with no predicted samples. Use `zero_division` parameter to control this behavior.\n",
      "  _warn_prf(average, modifier, msg_start, len(result))\n"
     ]
    },
    {
     "name": "stdout",
     "output_type": "stream",
     "text": [
      "              precision    recall  f1-score   support\n",
      "\n",
      "        fake       0.95      1.00      0.98   2718792\n",
      "        real       0.00      0.00      0.00    128367\n",
      "\n",
      "    accuracy                           0.95   2847159\n",
      "   macro avg       0.48      0.50      0.49   2847159\n",
      "weighted avg       0.91      0.95      0.93   2847159\n",
      "\n",
      "Area under ROC curve: 0.7053\n"
     ]
    }
   ],
   "source": [
    "y2_predicted = bdt2.predict(X2_test)\n",
    "print (classification_report(y2_test, y2_predicted,\n",
    "                            target_names=[\"fake\", \"real\"]))\n",
    "print (\"Area under ROC curve: %.4f\"%(roc_auc_score(y2_test,\n",
    "                                                  bdt2.decision_function(X2_test))))"
   ]
  },
  {
   "cell_type": "code",
   "execution_count": 10,
   "metadata": {},
   "outputs": [
    {
     "data": {
      "image/png": "[encoded data removed]",
      "text/plain": [
       "<Figure size 432x288 with 1 Axes>"
      ]
     },
     "metadata": {
      "needs_background": "light"
     },
     "output_type": "display_data"
    }
   ],
   "source": [
    "decisions = bdt2.decision_function(X2_test)\n",
    "fpr, tpr, thresholds = roc_curve(y2_test, decisions)\n",
    "roc_auc = auc(fpr, tpr)\n",
    "\n",
    "plt.plot(fpr, tpr, lw=1, label='ROC (area = %0.2f)'%(roc_auc))\n",
    "\n",
    "plt.plot([0, 1], [0, 1], '--', color=(0.6, 0.6, 0.6), label='Luck')\n",
    "plt.xlim([-0.05, 1.05])\n",
    "plt.ylim([-0.05, 1.05])\n",
    "plt.xlabel('False Positive Rate')\n",
    "plt.ylabel('True Positive Rate')\n",
    "plt.title('Receiver operating characteristic')\n",
    "plt.legend(loc=\"lower right\")\n",
    "plt.grid()\n",
    "plt.show()"
   ]
  },
  {
   "cell_type": "code",
   "execution_count": 11,
   "metadata": {},
   "outputs": [
    {
     "data": {
      "image/png": "[encoded data removed]",
      "text/plain": [
       "<Figure size 432x288 with 1 Axes>"
      ]
     },
     "metadata": {
      "needs_background": "light"
     },
     "output_type": "display_data"
    }
   ],
   "source": [
    "plot_colors = \"br\"\n",
    "plot_step = 0.02\n",
    "class_names = 'fake','real'\n",
    "\n",
    "plot_range = (decisions.min(), decisions.max())\n",
    "for i, n, c in zip(range(2), class_names, plot_colors):\n",
    "    plt.hist(decisions[y2_test == i],\n",
    "             bins=100,\n",
    "             range=plot_range,\n",
    "             facecolor=c,\n",
    "             label=n,\n",
    "             alpha=.5,\n",
    "             edgecolor='k')\n",
    "x1, x2, y1, y2 = plt.axis()\n",
    "plt.axis((x1, x2, y1, y2 * 1.2))\n",
    "plt.legend(loc='upper right')\n",
    "plt.ylabel('Samples')\n",
    "plt.xlabel('Score')\n",
    "plt.title('Decision Scores')\n",
    "\n",
    "plt.show()"
   ]
  },
  {
   "cell_type": "code",
   "execution_count": null,
   "metadata": {},
   "outputs": [],
   "source": []
  }
 ],
 "metadata": {
  "kernelspec": {
   "display_name": "Python 3",
   "language": "python",
   "name": "python3"
  },
  "language_info": {
   "codemirror_mode": {
    "name": "ipython",
    "version": 3
   },
   "file_extension": ".py",
   "mimetype": "text/x-python",
   "name": "python",
   "nbconvert_exporter": "python",
   "pygments_lexer": "ipython3",
   "version": "3.8.6"
  }
 },
 "nbformat": 4,
 "nbformat_minor": 4
}
