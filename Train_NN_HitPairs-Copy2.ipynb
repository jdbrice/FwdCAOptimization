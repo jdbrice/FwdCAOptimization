{
 "cells": [
  {
   "cell_type": "code",
   "execution_count": 1,
   "metadata": {},
   "outputs": [],
   "source": [
    "import numpy as np\n",
    "import uproot4 as uproot\n",
    "import math\n",
    "import matplotlib.pyplot as plt\n",
    "from tensorflow.python.keras.models import Sequential\n",
    "from tensorflow.python.keras.layers import Dense\n",
    "from tensorflow.python.keras.wrappers.scikit_learn import KerasRegressor\n",
    "import os\n",
    "from sklearn.model_selection import StratifiedKFold"
   ]
  },
  {
   "cell_type": "code",
   "execution_count": 2,
   "metadata": {},
   "outputs": [],
   "source": [
    "tree = uproot.open( \"/gpfs/loomis/home.grace/ys668/output/seed_1C0B_mltree.root:Stg\" )"
   ]
  },
  {
   "cell_type": "code",
   "execution_count": 3,
   "metadata": {},
   "outputs": [],
   "source": [
    "xyzxyzt = tree.arrays( [ \"Crit2_RZRatio_x1\", \"Crit2_RZRatio_y1\", \"Crit2_RZRatio_z1\", \"Crit2_RZRatio_x2\", \"Crit2_RZRatio_y2\", \"Crit2_RZRatio_z2\", \"Crit2_RZRatio_trackIds\" ], library='np'  )"
   ]
  },
  {
   "cell_type": "code",
   "execution_count": 4,
   "metadata": {},
   "outputs": [],
   "source": [
    "x1 = xyzxyzt['Crit2_RZRatio_x1']\n",
    "y1 = xyzxyzt['Crit2_RZRatio_y1']\n",
    "z1 = xyzxyzt['Crit2_RZRatio_z1']\n",
    "x2 = xyzxyzt['Crit2_RZRatio_x2']\n",
    "y2 = xyzxyzt['Crit2_RZRatio_y2']\n",
    "z2 = xyzxyzt['Crit2_RZRatio_z2']\n",
    "tid = xyzxyzt['Crit2_RZRatio_trackIds']"
   ]
  },
  {
   "cell_type": "markdown",
   "metadata": {},
   "source": [
    "## Train with (x,y,z,x,y,z)"
   ]
  },
  {
   "cell_type": "code",
   "execution_count": 5,
   "metadata": {},
   "outputs": [
    {
     "name": "stdout",
     "output_type": "stream",
     "text": [
      "CPU times: user 1min 44s, sys: 2.08 s, total: 1min 46s\n",
      "Wall time: 1min 47s\n"
     ]
    }
   ],
   "source": [
    "%%time\n",
    "\n",
    "X = [[], [], [], [], [], []]\n",
    "Y = []\n",
    "\n",
    "# build up 1d arrays for training\n",
    "for iEvent in np.arange( 0, len(x1) ) :\n",
    "    for i in np.arange( 0, len(x1[iEvent]) ) :\n",
    "        X[0].append( x1[iEvent][i] )\n",
    "        X[1].append( y1[iEvent][i] )\n",
    "        X[2].append( z1[iEvent][i] )\n",
    "        \n",
    "        X[3].append( x2[iEvent][i] )\n",
    "        X[4].append( y2[iEvent][i] )\n",
    "        X[5].append( z2[iEvent][i] )\n",
    "        \n",
    "        if tid[iEvent][i] > 0 :\n",
    "            Y.append( 1 )\n",
    "        else :\n",
    "            Y.append( 0 )"
   ]
  },
  {
   "cell_type": "code",
   "execution_count": 6,
   "metadata": {},
   "outputs": [],
   "source": [
    "X = np.transpose( np.array( X ))\n",
    "y = np.array( Y )"
   ]
  },
  {
   "cell_type": "code",
   "execution_count": 7,
   "metadata": {},
   "outputs": [
    {
     "name": "stdout",
     "output_type": "stream",
     "text": [
      "X = (12877245, 6)\n",
      "y = (12877245,)\n"
     ]
    }
   ],
   "source": [
    "print( \"X =\", X.shape )\n",
    "print( \"y =\", y.shape )"
   ]
  },
  {
   "cell_type": "code",
   "execution_count": 8,
   "metadata": {},
   "outputs": [],
   "source": [
    "def build_model() :\n",
    "    model = Sequential()\n",
    "    model.add(Dense(20, input_dim=6, kernel_initializer='normal', activation='relu'))\n",
    "    model.add(Dense(1))\n",
    "    model.summary()\n",
    "    return model"
   ]
  },
  {
   "cell_type": "code",
   "execution_count": 9,
   "metadata": {},
   "outputs": [
    {
     "data": {
      "text/plain": [
       "2"
      ]
     },
     "execution_count": 9,
     "metadata": {},
     "output_type": "execute_result"
    }
   ],
   "source": [
    "skf = StratifiedKFold(n_splits=2)\n",
    "skf.get_n_splits(X, y)"
   ]
  },
  {
   "cell_type": "code",
   "execution_count": 10,
   "metadata": {},
   "outputs": [
    {
     "name": "stdout",
     "output_type": "stream",
     "text": [
      "StratifiedKFold(n_splits=2, random_state=None, shuffle=False)\n"
     ]
    }
   ],
   "source": [
    "print(skf)"
   ]
  },
  {
   "cell_type": "code",
   "execution_count": 11,
   "metadata": {},
   "outputs": [
    {
     "name": "stdout",
     "output_type": "stream",
     "text": [
      "TRAIN: [ 6434959  6434960  6434961 ... 12877242 12877243 12877244] TEST: [      0       1       2 ... 6512172 6512210 6512248]\n",
      "TRAIN: [      0       1       2 ... 6512172 6512210 6512248] TEST: [ 6434959  6434960  6434961 ... 12877242 12877243 12877244]\n"
     ]
    }
   ],
   "source": [
    "for train_index, test_index in skf.split(X, y):\n",
    "    print(\"TRAIN:\", train_index, \"TEST:\", test_index)\n",
    "    X_train, X_test = X[train_index], X[test_index]\n",
    "    y_train, y_test = y[train_index], y[test_index]"
   ]
  },
  {
   "cell_type": "code",
   "execution_count": 12,
   "metadata": {},
   "outputs": [
    {
     "name": "stdout",
     "output_type": "stream",
     "text": [
      "X_train = (6438623, 6)\n",
      "y_train = (6438623,)\n",
      "X_test = (6438622, 6)\n",
      "y_test = (6438622,)\n"
     ]
    }
   ],
   "source": [
    "print( \"X_train =\", X_train.shape )\n",
    "print( \"y_train =\", y_train.shape )\n",
    "print( \"X_test =\", X_test.shape )\n",
    "print( \"y_test =\", y_test.shape )"
   ]
  },
  {
   "cell_type": "code",
   "execution_count": 13,
   "metadata": {},
   "outputs": [
    {
     "name": "stdout",
     "output_type": "stream",
     "text": [
      "Model: \"sequential\"\n",
      "_________________________________________________________________\n",
      "Layer (type)                 Output Shape              Param #   \n",
      "=================================================================\n",
      "dense (Dense)                (None, 20)                140       \n",
      "_________________________________________________________________\n",
      "dense_1 (Dense)              (None, 1)                 21        \n",
      "=================================================================\n",
      "Total params: 161\n",
      "Trainable params: 161\n",
      "Non-trainable params: 0\n",
      "_________________________________________________________________\n"
     ]
    }
   ],
   "source": [
    "# Get the model built in the function above\n",
    "model = build_model()\n",
    "# compile the model and set the loss function, optimizer and metrics to check during training.\n",
    "model.compile(loss='mse', optimizer='adam', metrics=['mse','mae'])"
   ]
  },
  {
   "cell_type": "code",
   "execution_count": 14,
   "metadata": {},
   "outputs": [
    {
     "name": "stdout",
     "output_type": "stream",
     "text": [
      "Epoch 1/10\n",
      "643863/643863 [==============================] - 755s 1ms/step - loss: 0.0360 - mse: 0.0360 - mae: 0.1032\n",
      "Epoch 2/10\n",
      "643863/643863 [==============================] - 650s 1ms/step - loss: 0.0321 - mse: 0.0321 - mae: 0.0958\n",
      "Epoch 3/10\n",
      "643863/643863 [==============================] - 552s 858us/step - loss: 0.0322 - mse: 0.0322 - mae: 0.0957\n",
      "Epoch 4/10\n",
      "643863/643863 [==============================] - 552s 857us/step - loss: 0.0322 - mse: 0.0322 - mae: 0.0957\n",
      "Epoch 5/10\n",
      "643863/643863 [==============================] - 552s 858us/step - loss: 0.0322 - mse: 0.0322 - mae: 0.0956\n",
      "Epoch 6/10\n",
      "643863/643863 [==============================] - 552s 857us/step - loss: 0.0322 - mse: 0.0322 - mae: 0.0957\n",
      "Epoch 7/10\n",
      "643863/643863 [==============================] - 551s 856us/step - loss: 0.0322 - mse: 0.0322 - mae: 0.0956\n",
      "Epoch 8/10\n",
      "643863/643863 [==============================] - 549s 852us/step - loss: 0.0322 - mse: 0.0322 - mae: 0.0957s - loss: 0.0322 - mse: 0.0322 - mae: 0.\n",
      "Epoch 9/10\n",
      "643863/643863 [==============================] - 542s 842us/step - loss: 0.0322 - mse: 0.0322 - mae: 0.0957s - loss: 0.0322 - mse\n",
      "Epoch 10/10\n",
      "643863/643863 [==============================] - 533s 828us/step - loss: 0.0322 - mse: 0.0322 - mae: 0.0957s - los\n",
      "CPU times: user 1h 25min 43s, sys: 3min 29s, total: 1h 29min 12s\n",
      "Wall time: 1h 36min 30s\n"
     ]
    }
   ],
   "source": [
    "%%time\n",
    "history = model.fit(X_train, y_train, epochs=10, batch_size=10,  verbose=1)"
   ]
  },
  {
   "cell_type": "code",
   "execution_count": 15,
   "metadata": {},
   "outputs": [],
   "source": [
    "model.save_weights('./models/10epochs')"
   ]
  },
  {
   "cell_type": "code",
   "execution_count": null,
   "metadata": {},
   "outputs": [],
   "source": []
  },
  {
   "cell_type": "code",
   "execution_count": 16,
   "metadata": {},
   "outputs": [],
   "source": [
    "y_pred = np.array(model.predict(X_test))"
   ]
  },
  {
   "cell_type": "code",
   "execution_count": 19,
   "metadata": {},
   "outputs": [
    {
     "data": {
      "image/png": "[encoded data removed]",
      "text/plain": [
       "<Figure size 1152x648 with 1 Axes>"
      ]
     },
     "metadata": {
      "needs_background": "light"
     },
     "output_type": "display_data"
    }
   ],
   "source": [
    "plt.figure(figsize=(16,9))\n",
    "plt.hist( [ y0[0] for y0, y1 in zip(y_pred, y_test) if y1 == 0 ], bins=np.linspace( -1.0, 1.0, 100 ), alpha=0.5 )\n",
    "plt.hist( [ y0[0] for y0, y1 in zip(y_pred, y_test) if y1 == 1 ], bins=np.linspace( -1.0, 1.0, 100 ), alpha=0.5 )\n",
    "plt.semilogy()\n",
    "plt.show()"
   ]
  },
  {
   "cell_type": "code",
   "execution_count": null,
   "metadata": {},
   "outputs": [],
   "source": []
  },
  {
   "cell_type": "code",
   "execution_count": 43,
   "metadata": {},
   "outputs": [],
   "source": [
    "import tensorflow.python.keras as k"
   ]
  },
  {
   "cell_type": "code",
   "execution_count": 45,
   "metadata": {},
   "outputs": [
    {
     "data": {
      "text/plain": [
       "['BCE',\n",
       " 'BinaryCrossentropy',\n",
       " 'CategoricalCrossentropy',\n",
       " 'CategoricalHinge',\n",
       " 'CosineSimilarity',\n",
       " 'Hinge',\n",
       " 'Huber',\n",
       " 'K',\n",
       " 'KLD',\n",
       " 'KLDivergence',\n",
       " 'LABEL_DTYPES_FOR_LOSSES',\n",
       " 'LogCosh',\n",
       " 'Loss',\n",
       " 'LossFunctionWrapper',\n",
       " 'MAE',\n",
       " 'MAPE',\n",
       " 'MSE',\n",
       " 'MSLE',\n",
       " 'MeanAbsoluteError',\n",
       " 'MeanAbsolutePercentageError',\n",
       " 'MeanSquaredError',\n",
       " 'MeanSquaredLogarithmicError',\n",
       " 'Poisson',\n",
       " 'SparseCategoricalCrossentropy',\n",
       " 'SquaredHinge',\n",
       " '__builtins__',\n",
       " '__cached__',\n",
       " '__doc__',\n",
       " '__file__',\n",
       " '__loader__',\n",
       " '__name__',\n",
       " '__package__',\n",
       " '__spec__',\n",
       " '_maybe_convert_labels',\n",
       " 'abc',\n",
       " 'absolute_import',\n",
       " 'ag_ctx',\n",
       " 'array_ops',\n",
       " 'autograph',\n",
       " 'bce',\n",
       " 'binary_crossentropy',\n",
       " 'categorical_crossentropy',\n",
       " 'categorical_hinge',\n",
       " 'context',\n",
       " 'cosine_similarity',\n",
       " 'deserialize',\n",
       " 'deserialize_keras_object',\n",
       " 'dispatch',\n",
       " 'distribution_strategy_context',\n",
       " 'division',\n",
       " 'doc_controls',\n",
       " 'get',\n",
       " 'hinge',\n",
       " 'huber',\n",
       " 'huber_loss',\n",
       " 'is_categorical_crossentropy',\n",
       " 'keras_export',\n",
       " 'kl_divergence',\n",
       " 'kld',\n",
       " 'kullback_leibler_divergence',\n",
       " 'log_cosh',\n",
       " 'logcosh',\n",
       " 'losses_impl',\n",
       " 'losses_utils',\n",
       " 'mae',\n",
       " 'mape',\n",
       " 'math_ops',\n",
       " 'mean_absolute_error',\n",
       " 'mean_absolute_percentage_error',\n",
       " 'mean_squared_error',\n",
       " 'mean_squared_logarithmic_error',\n",
       " 'mse',\n",
       " 'msle',\n",
       " 'nn',\n",
       " 'ops',\n",
       " 'poisson',\n",
       " 'print_function',\n",
       " 'serialize',\n",
       " 'serialize_keras_object',\n",
       " 'six',\n",
       " 'smart_cond',\n",
       " 'sparse_categorical_crossentropy',\n",
       " 'squared_hinge',\n",
       " 'tensor_util',\n",
       " 'tf_utils']"
      ]
     },
     "execution_count": 45,
     "metadata": {},
     "output_type": "execute_result"
    }
   ],
   "source": [
    "dir(k.losses)"
   ]
  },
  {
   "cell_type": "code",
   "execution_count": 59,
   "metadata": {},
   "outputs": [],
   "source": [
    "import math"
   ]
  },
  {
   "cell_type": "code",
   "execution_count": null,
   "metadata": {},
   "outputs": [],
   "source": []
  }
 ],
 "metadata": {
  "kernelspec": {
   "display_name": "Python 3",
   "language": "python",
   "name": "python3"
  },
  "language_info": {
   "codemirror_mode": {
    "name": "ipython",
    "version": 3
   },
   "file_extension": ".py",
   "mimetype": "text/x-python",
   "name": "python",
   "nbconvert_exporter": "python",
   "pygments_lexer": "ipython3",
   "version": "3.8.6"
  }
 },
 "nbformat": 4,
 "nbformat_minor": 4
}
