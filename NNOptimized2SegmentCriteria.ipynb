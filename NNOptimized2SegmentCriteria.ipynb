{
 "cells": [
  {
   "cell_type": "markdown",
   "metadata": {},
   "source": [
    "### Optimizing the CA criteria using keras"
   ]
  },
  {
   "cell_type": "code",
   "execution_count": 1,
   "metadata": {},
   "outputs": [],
   "source": [
    "import numpy as np\n",
    "import uproot\n",
    "import math"
   ]
  },
  {
   "cell_type": "code",
   "execution_count": 3,
   "metadata": {},
   "outputs": [],
   "source": [
    "f = uproot.open( \"mltree.root\" )\n",
    "mltree = f[\"Stg\"]"
   ]
  },
  {
   "cell_type": "code",
   "execution_count": 4,
   "metadata": {},
   "outputs": [
    {
     "data": {
      "text/plain": [
       "<TTree b'Stg' at 0x000117ea84a8>"
      ]
     },
     "execution_count": 4,
     "metadata": {},
     "output_type": "execute_result"
    }
   ],
   "source": []
  },
  {
   "cell_type": "code",
   "execution_count": 5,
   "metadata": {},
   "outputs": [],
   "source": [
    "import matplotlib.pyplot as plt\n",
    "fs = ( 16, 9 ) # lets make all our figures 16 by 9"
   ]
  },
  {
   "cell_type": "code",
   "execution_count": 6,
   "metadata": {},
   "outputs": [],
   "source": [
    "xyztv = mltree.arrays( [ \"x\", \"y\", \"z\", \"tid\", \"vid\" ]  )\n",
    "mct = mltree.arrays( [\"pt\", \"eta\", \"phi\"] )"
   ]
  },
  {
   "cell_type": "code",
   "execution_count": 9,
   "metadata": {},
   "outputs": [
    {
     "data": {
      "image/png": "[encoded data removed]",
      "text/plain": [
       "<Figure size 1152x648 with 1 Axes>"
      ]
     },
     "metadata": {
      "needs_background": "light"
     },
     "output_type": "display_data"
    }
   ],
   "source": [
    "plt.figure(figsize=fs)\n",
    "plt.hist( xyztv[b\"y\"].flatten(), bins=np.linspace(-60, 60, 50) )\n",
    "plt.show()"
   ]
  },
  {
   "cell_type": "code",
   "execution_count": null,
   "metadata": {},
   "outputs": [],
   "source": []
  },
  {
   "cell_type": "code",
   "execution_count": 20,
   "metadata": {},
   "outputs": [],
   "source": [
    "class HitPoint:\n",
    "    def __init__( self, _x, _y, _z, _v, _t ):\n",
    "        self.x = _x\n",
    "        self.y = _y\n",
    "        self.z = _z\n",
    "        self.v = _v\n",
    "        self.t = _t\n",
    "    def __repr__( self ):\n",
    "        return 'HitPoint[v=%d, (%0.3f, %0.3f, %0.3f), tid=%d]' % ( self.v, self.x, self.y, self.z, self.t )\n",
    "class TwoHit:\n",
    "    def __init__( self, _a, _b):\n",
    "        self.a = _a\n",
    "        self.b = _b\n",
    "\n",
    "    \n",
    "class CriteriaResult:\n",
    "    def __init__(self):\n",
    "        self.real = False\n",
    "        self.res = -99\n",
    "        self.pt = -99\n",
    "        self.eta = -99\n",
    "        self.phi = -99\n",
    "    \n",
    "        \n",
    "def generate_vol_map( x, y, z, v, t, phi0, phi1 ):\n",
    "    vol_map = [ [], [], [], [] ] # maps to 4 volumes\n",
    "    for _x, _y, _z, _v, _t in zip(  x, y, z, v, t ):\n",
    "        phi = math.atan2( _y, _x )\n",
    "        if phi < phi1 and phi >= phi0 :\n",
    "            vol_map[_v].append( HitPoint( _x, _y, _z, _v, _t ) )\n",
    "    return vol_map\n",
    "    #vol_map[]\n",
    "    #print( len(x) )\n",
    "\n",
    "def gen_pairs( vm ) :\n",
    "    hp = []\n",
    "    for i in np.arange( 0, 3 ):\n",
    "        for a in vm[i] :\n",
    "            for b in vm[i+1]:\n",
    "                hp.append( (a,b) )\n",
    "    return hp\n",
    "\n",
    "def process_pairs( hp, pts, crit ):\n",
    "    crs = []\n",
    "    \n",
    "    for points in hp:\n",
    "        a = points[0]\n",
    "        b = points[1]\n",
    "        cr = CriteriaResult()\n",
    "        cr.res = crit(a, b)\n",
    "        cr.real = (a.t == b.t)\n",
    "        if cr.real :\n",
    "            cr.pt = pts[a.t - 1]\n",
    "        crs.append( cr )\n",
    "        \n",
    "    return crs\n",
    "\n",
    "\n",
    "def crit_rz( a, b ):\n",
    "    dx = a.x-b.x\n",
    "    dy = a.y-b.y\n",
    "    dz = a.z-b.z\n",
    "    return (dx**2+dy**2+dz**2)/dz**2;\n",
    "\n",
    "M_PI = 3.1415926\n",
    "def crit_dphi( a, b ):\n",
    "    phia = math.atan2( a.y, a.x )\n",
    "    phib = math.atan2(b.y, b.x)\n",
    "    deltaPhi = phia-phib\n",
    "    if deltaPhi > M_PI :\n",
    "        deltaPhi = deltaPhi - 2*M_PI\n",
    "    if deltaPhi < -M_PI:\n",
    "        deltaPhi = deltaPhi + 2*M_PI\n",
    "    if ( b.y*b.y + b.x*b.x < 0.0001 ) or ( a.y*a.y + a.x*a.x < 0.0001 ):\n",
    "        deltaPhi = 0\n",
    "    deltaPhi = 180. * math.fabs( deltaPhi ) / M_PI\n",
    "    return deltaPhi\n",
    "\n",
    "def crit_deltaRho( a, b ):\n",
    "    rhoA =  math.sqrt( a.x*a.x + a.y*a.y );\n",
    "    rhoB =  math.sqrt( b.x*b.x + b.y*b.y );\n",
    "\n",
    "    deltaRho = rhoA - rhoB;\n",
    "    return deltaRho\n",
    "\n",
    "def pair_stats( pairs ):\n",
    "    nr = 0\n",
    "    nf = 0\n",
    "    for p in pairs:\n",
    "        if p[0].t == p[1].t:\n",
    "            nr = nr + 1\n",
    "        else :\n",
    "            nf = nf + 1\n",
    "#     print( \"There are %d real and %d fake pairs, with %f %% real\" % ( nr, nf, (nr / len(pairs)) ) ) \n",
    "    return (nr, nf, (nr / len(pairs)) )"
   ]
  },
  {
   "cell_type": "code",
   "execution_count": 23,
   "metadata": {},
   "outputs": [
    {
     "data": {
      "text/plain": [
       "[(HitPoint[v=0, (7.543, 20.994, 280.905), tid=302],\n",
       "  HitPoint[v=1, (8.503, 24.978, 303.705), tid=302]),\n",
       " (HitPoint[v=0, (7.543, 20.994, 280.905), tid=302],\n",
       "  HitPoint[v=1, (16.451, 21.481, 303.705), tid=328]),\n",
       " (HitPoint[v=0, (14.246, 18.194, 280.905), tid=328],\n",
       "  HitPoint[v=1, (8.503, 24.978, 303.705), tid=302]),\n",
       " (HitPoint[v=0, (14.246, 18.194, 280.905), tid=328],\n",
       "  HitPoint[v=1, (16.451, 21.481, 303.705), tid=328]),\n",
       " (HitPoint[v=1, (8.503, 24.978, 303.705), tid=302],\n",
       "  HitPoint[v=2, (9.475, 29.001, 326.605), tid=302]),\n",
       " (HitPoint[v=1, (8.503, 24.978, 303.705), tid=302],\n",
       "  HitPoint[v=2, (18.730, 24.746, 326.605), tid=328]),\n",
       " (HitPoint[v=1, (16.451, 21.481, 303.705), tid=328],\n",
       "  HitPoint[v=2, (9.475, 29.001, 326.605), tid=302]),\n",
       " (HitPoint[v=1, (16.451, 21.481, 303.705), tid=328],\n",
       "  HitPoint[v=2, (18.730, 24.746, 326.605), tid=328]),\n",
       " (HitPoint[v=2, (9.475, 29.001, 326.605), tid=302],\n",
       "  HitPoint[v=3, (10.435, 32.974, 349.405), tid=302]),\n",
       " (HitPoint[v=2, (9.475, 29.001, 326.605), tid=302],\n",
       "  HitPoint[v=3, (20.902, 28.012, 349.405), tid=328]),\n",
       " (HitPoint[v=2, (18.730, 24.746, 326.605), tid=328],\n",
       "  HitPoint[v=3, (10.435, 32.974, 349.405), tid=302]),\n",
       " (HitPoint[v=2, (18.730, 24.746, 326.605), tid=328],\n",
       "  HitPoint[v=3, (20.902, 28.012, 349.405), tid=328])]"
      ]
     },
     "execution_count": 23,
     "metadata": {},
     "output_type": "execute_result"
    }
   ],
   "source": [
    "iEvent = 0\n",
    "vm = generate_vol_map( xyztv[b\"x\"][iEvent], xyztv[b\"y\"][iEvent], xyztv[b\"z\"][iEvent], xyztv[b\"vid\"][iEvent], xyztv[b\"tid\"][iEvent], 0, math.pi / 2.0 )\n",
    "pairs = gen_pairs(vm)\n",
    "\n",
    "pairs"
   ]
  },
  {
   "cell_type": "code",
   "execution_count": 31,
   "metadata": {},
   "outputs": [
    {
     "name": "stdout",
     "output_type": "stream",
     "text": [
      "Event 0\n",
      "Event 5000\n",
      "Event 10000\n",
      "Event 15000\n",
      "Event 20000\n",
      "Event 25000\n",
      "Event 30000\n",
      "Event 35000\n",
      "Event 40000\n",
      "Event 45000\n"
     ]
    }
   ],
   "source": [
    "all_pairs = []\n",
    "all_mapped_pts = []\n",
    "all_RZ = []\n",
    "all_DP = []\n",
    "all_DR = []\n",
    "\n",
    "for iEvent in np.arange( len(xyztv[b\"x\"]) ) :\n",
    "    vm = generate_vol_map( xyztv[b\"x\"][iEvent], xyztv[b\"y\"][iEvent], xyztv[b\"z\"][iEvent], xyztv[b\"vid\"][iEvent], xyztv[b\"tid\"][iEvent], 0, math.pi/4 )\n",
    "    pts = mct[ b\"pt\" ][iEvent]\n",
    "    pairs = gen_pairs( vm )\n",
    "    all_pairs.extend( pairs )\n",
    "    \n",
    "    mapped_pts = [ pts[ p[0].t ] if p[0].t == p[1].t else 0.0 for p in pairs  ]\n",
    "    all_mapped_pts.extend( mapped_pts )\n",
    "    \n",
    "    if iEvent % 5000 == 0:\n",
    "        print( \"Event %d\" %(iEvent))\n",
    "#     inr, inf, ipur = pair_stats( pairs )\n",
    "\n",
    "    "
   ]
  },
  {
   "cell_type": "code",
   "execution_count": 36,
   "metadata": {},
   "outputs": [
    {
     "data": {
      "text/plain": [
       "857586"
      ]
     },
     "execution_count": 36,
     "metadata": {},
     "output_type": "execute_result"
    }
   ],
   "source": [
    "len(all_pairs)"
   ]
  },
  {
   "cell_type": "code",
   "execution_count": 35,
   "metadata": {},
   "outputs": [],
   "source": [
    "all_RZ = [ crit_rz( p[0], p[1] ) for p in all_pairs ]"
   ]
  },
  {
   "cell_type": "code",
   "execution_count": null,
   "metadata": {},
   "outputs": [],
   "source": [
    "RZ_real = [ rz for i, rz in enumerate(all_RZ) if all_pairs[i][0].t == all_pairs[i][1].t  ]\n",
    "RZ_fake = [ rz for i, rz in enumerate(all_RZ) if all_pairs[i][0].t != all_pairs[i][1].t  ]\n",
    "\n",
    "plt.figure(figsize=fs)\n",
    "plt.hist( RZ_real, bins=np.linspace(0.8, 10, 600), fc='red' )\n",
    "plt.hist( RZ_fake, bins=np.linspace(0.8, 10, 600), fc='blue', alpha=0.4 )\n",
    "plt.yscale('log')\n",
    "plt.show()"
   ]
  },
  {
   "cell_type": "code",
   "execution_count": null,
   "metadata": {},
   "outputs": [],
   "source": [
    "\n",
    "all_DP = [ crit_dphi( p[0], p[1] ) for p in all_pairs ]\n",
    "all_DR = [ crit_deltaRho( p[0], p[1] ) for p in all_pairs ]"
   ]
  },
  {
   "cell_type": "code",
   "execution_count": 40,
   "metadata": {},
   "outputs": [
    {
     "data": {
      "text/plain": [
       "368302"
      ]
     },
     "execution_count": 40,
     "metadata": {},
     "output_type": "execute_result"
    }
   ],
   "source": [
    "len( all_pairs )"
   ]
  },
  {
   "cell_type": "code",
   "execution_count": 41,
   "metadata": {},
   "outputs": [],
   "source": [
    "from tensorflow.python.keras.models import Sequential\n",
    "from tensorflow.python.keras.layers import Dense\n",
    "from tensorflow.python.keras.wrappers.scikit_learn import KerasRegressor\n",
    "import os\n",
    "os.environ['KMP_DUPLICATE_LIB_OK']='True'"
   ]
  },
  {
   "cell_type": "code",
   "execution_count": 128,
   "metadata": {},
   "outputs": [],
   "source": [
    "def build_model() :\n",
    "    model = Sequential()\n",
    "    model.add(Dense(20, input_dim=3, kernel_initializer='normal', activation='relu'))\n",
    "    model.add(Dense(1))\n",
    "    model.summary()\n",
    "    return model"
   ]
  },
  {
   "cell_type": "code",
   "execution_count": 129,
   "metadata": {},
   "outputs": [
    {
     "name": "stdout",
     "output_type": "stream",
     "text": [
      "_________________________________________________________________\n",
      "Layer (type)                 Output Shape              Param #   \n",
      "=================================================================\n",
      "dense_8 (Dense)              (None, 20)                80        \n",
      "_________________________________________________________________\n",
      "dense_9 (Dense)              (None, 1)                 21        \n",
      "=================================================================\n",
      "Total params: 101\n",
      "Trainable params: 101\n",
      "Non-trainable params: 0\n",
      "_________________________________________________________________\n"
     ]
    }
   ],
   "source": [
    "# Get the model built in the function above\n",
    "model = build_model()\n",
    "# compile the model and set the loss function, optimizer and metrics to check during training.\n",
    "model.compile(loss='mse', optimizer='adam', metrics=['mse','mae'])"
   ]
  },
  {
   "cell_type": "code",
   "execution_count": 130,
   "metadata": {},
   "outputs": [],
   "source": [
    "n_pairs = len( all_pairs )\n",
    "X_train = np.empty( shape=(3, n_pairs) )\n",
    "Y_train = np.empty( shape=(n_pairs, ) )\n",
    "\n",
    "for iPair in np.arange( n_pairs ) :\n",
    "        X_train[0][iPair] = all_RZ[iPair]\n",
    "        X_train[1][iPair] = all_DP[iPair]\n",
    "        X_train[2][iPair] = all_DR[iPair]\n",
    "        \n",
    "        if all_pairs[iPair][0].t == all_pairs[iPair][1].t and all_pairs[iPair][1].t <= 10:\n",
    "            Y_train[iPair] = 1\n",
    "        else :\n",
    "            Y_train[iPair] = 0\n",
    "X_train = np.transpose(X_train)"
   ]
  },
  {
   "cell_type": "code",
   "execution_count": 131,
   "metadata": {},
   "outputs": [
    {
     "name": "stdout",
     "output_type": "stream",
     "text": [
      "Train on 246762 samples, validate on 121540 samples\n",
      "Epoch 1/20\n",
      "246762/246762 [==============================] - 4s 16us/sample - loss: 0.0289 - mean_squared_error: 0.0289 - mean_absolute_error: 0.0667 - val_loss: 0.0170 - val_mean_squared_error: 0.0170 - val_mean_absolute_error: 0.0554\n",
      "Epoch 2/20\n",
      "246762/246762 [==============================] - 3s 13us/sample - loss: 0.0158 - mean_squared_error: 0.0158 - mean_absolute_error: 0.0516 - val_loss: 0.0143 - val_mean_squared_error: 0.0143 - val_mean_absolute_error: 0.0422\n",
      "Epoch 3/20\n",
      "246762/246762 [==============================] - 3s 14us/sample - loss: 0.0142 - mean_squared_error: 0.0142 - mean_absolute_error: 0.0479 - val_loss: 0.0134 - val_mean_squared_error: 0.0134 - val_mean_absolute_error: 0.0394\n",
      "Epoch 4/20\n",
      "246762/246762 [==============================] - 3s 14us/sample - loss: 0.0134 - mean_squared_error: 0.0134 - mean_absolute_error: 0.0455 - val_loss: 0.0126 - val_mean_squared_error: 0.0126 - val_mean_absolute_error: 0.0366\n",
      "Epoch 5/20\n",
      "246762/246762 [==============================] - 3s 14us/sample - loss: 0.0130 - mean_squared_error: 0.0130 - mean_absolute_error: 0.0447 - val_loss: 0.0129 - val_mean_squared_error: 0.0129 - val_mean_absolute_error: 0.0543\n",
      "Epoch 6/20\n",
      "246762/246762 [==============================] - 4s 15us/sample - loss: 0.0126 - mean_squared_error: 0.0126 - mean_absolute_error: 0.0434 - val_loss: 0.0119 - val_mean_squared_error: 0.0119 - val_mean_absolute_error: 0.0357\n",
      "Epoch 7/20\n",
      "246762/246762 [==============================] - 3s 14us/sample - loss: 0.0123 - mean_squared_error: 0.0123 - mean_absolute_error: 0.0428 - val_loss: 0.0117 - val_mean_squared_error: 0.0117 - val_mean_absolute_error: 0.0377\n",
      "Epoch 8/20\n",
      "246762/246762 [==============================] - 3s 14us/sample - loss: 0.0120 - mean_squared_error: 0.0120 - mean_absolute_error: 0.0415 - val_loss: 0.0115 - val_mean_squared_error: 0.0115 - val_mean_absolute_error: 0.0378\n",
      "Epoch 9/20\n",
      "246762/246762 [==============================] - 4s 14us/sample - loss: 0.0118 - mean_squared_error: 0.0118 - mean_absolute_error: 0.0422 - val_loss: 0.0111 - val_mean_squared_error: 0.0111 - val_mean_absolute_error: 0.0311\n",
      "Epoch 10/20\n",
      "246762/246762 [==============================] - 3s 14us/sample - loss: 0.0115 - mean_squared_error: 0.0115 - mean_absolute_error: 0.0406 - val_loss: 0.0126 - val_mean_squared_error: 0.0126 - val_mean_absolute_error: 0.0563\n",
      "Epoch 11/20\n",
      "246762/246762 [==============================] - 3s 14us/sample - loss: 0.0114 - mean_squared_error: 0.0114 - mean_absolute_error: 0.0411 - val_loss: 0.0112 - val_mean_squared_error: 0.0112 - val_mean_absolute_error: 0.0450\n",
      "Epoch 12/20\n",
      "246762/246762 [==============================] - 4s 15us/sample - loss: 0.0112 - mean_squared_error: 0.0112 - mean_absolute_error: 0.0402 - val_loss: 0.0107 - val_mean_squared_error: 0.0107 - val_mean_absolute_error: 0.0331\n",
      "Epoch 13/20\n",
      "246762/246762 [==============================] - 3s 14us/sample - loss: 0.0112 - mean_squared_error: 0.0112 - mean_absolute_error: 0.0412 - val_loss: 0.0119 - val_mean_squared_error: 0.0119 - val_mean_absolute_error: 0.0566\n",
      "Epoch 14/20\n",
      "246762/246762 [==============================] - 3s 14us/sample - loss: 0.0110 - mean_squared_error: 0.0110 - mean_absolute_error: 0.0381 - val_loss: 0.0110 - val_mean_squared_error: 0.0110 - val_mean_absolute_error: 0.0471\n",
      "Epoch 15/20\n",
      "246762/246762 [==============================] - 3s 14us/sample - loss: 0.0109 - mean_squared_error: 0.0109 - mean_absolute_error: 0.0392 - val_loss: 0.0105 - val_mean_squared_error: 0.0105 - val_mean_absolute_error: 0.0375\n",
      "Epoch 16/20\n",
      "246762/246762 [==============================] - 3s 14us/sample - loss: 0.0108 - mean_squared_error: 0.0108 - mean_absolute_error: 0.0388 - val_loss: 0.0102 - val_mean_squared_error: 0.0102 - val_mean_absolute_error: 0.0319\n",
      "Epoch 17/20\n",
      "246762/246762 [==============================] - 4s 15us/sample - loss: 0.0106 - mean_squared_error: 0.0106 - mean_absolute_error: 0.0392 - val_loss: 0.0102 - val_mean_squared_error: 0.0102 - val_mean_absolute_error: 0.0317\n",
      "Epoch 18/20\n",
      "246762/246762 [==============================] - 4s 17us/sample - loss: 0.0106 - mean_squared_error: 0.0106 - mean_absolute_error: 0.0389 - val_loss: 0.0102 - val_mean_squared_error: 0.0102 - val_mean_absolute_error: 0.0304\n",
      "Epoch 19/20\n",
      "246762/246762 [==============================] - 5s 19us/sample - loss: 0.0105 - mean_squared_error: 0.0105 - mean_absolute_error: 0.0383 - val_loss: 0.0114 - val_mean_squared_error: 0.0114 - val_mean_absolute_error: 0.0597\n",
      "Epoch 20/20\n",
      "246762/246762 [==============================] - 4s 15us/sample - loss: 0.0104 - mean_squared_error: 0.0104 - mean_absolute_error: 0.0381 - val_loss: 0.0099 - val_mean_squared_error: 0.0099 - val_mean_absolute_error: 0.0317\n"
     ]
    }
   ],
   "source": [
    "history = model.fit(X_train, Y_train, epochs=20, batch_size=100,  verbose=1, validation_split=0.33)"
   ]
  },
  {
   "cell_type": "code",
   "execution_count": 132,
   "metadata": {},
   "outputs": [
    {
     "data": {
      "image/png": "[encoded data removed]",
      "text/plain": [
       "<Figure size 1152x648 with 1 Axes>"
      ]
     },
     "metadata": {},
     "output_type": "display_data"
    }
   ],
   "source": [
    "plt.figure(figsize=fs)\n",
    "# print(history.history.keys())\n",
    "# \"Loss\"\n",
    "plt.plot(history.history['loss'][1:], linewidth=3)\n",
    "plt.plot(history.history['val_loss'][1:], linewidth=3)\n",
    "plt.title('model loss')\n",
    "plt.ylabel('loss')\n",
    "plt.xlabel('epoch')\n",
    "plt.legend(['train', 'validation'], loc='upper right', prop={'size': 40})\n",
    "# plt.gca().set_ylim((0, 1))\n",
    "# plt.semilogy()\n",
    "plt.show()"
   ]
  },
  {
   "cell_type": "code",
   "execution_count": 133,
   "metadata": {},
   "outputs": [],
   "source": [
    "Y_pred = np.array(model.predict(X_train))"
   ]
  },
  {
   "cell_type": "code",
   "execution_count": 135,
   "metadata": {},
   "outputs": [
    {
     "data": {
      "image/png": "[encoded data removed]",
      "text/plain": [
       "<Figure size 1152x648 with 1 Axes>"
      ]
     },
     "metadata": {},
     "output_type": "display_data"
    }
   ],
   "source": [
    "plt.figure(figsize=fs)\n",
    "plt.hist( [ y0[0] for y0, y1 in zip(Y_pred[:40000], Y_train[:40000]) if y1 == 0 ], bins=np.linspace( -0.2, 1.0, 100 ), alpha=0.5 )\n",
    "plt.hist( [ y0[0] for y0, y1 in zip(Y_pred[:40000], Y_train[:40000]) if y1 == 1 ], bins=np.linspace( -0.2, 1.0, 100 ), alpha=0.5 )\n",
    "plt.semilogy()\n",
    "plt.show()"
   ]
  },
  {
   "cell_type": "code",
   "execution_count": 152,
   "metadata": {},
   "outputs": [
    {
     "name": "stdout",
     "output_type": "stream",
     "text": [
      "purity = 0.851240\n"
     ]
    }
   ],
   "source": [
    "pifg = [ y0[0] for y0, y1 in zip(Y_pred[:10000], Y_train[:10000]) if y1 == 1 and y0[0] > 0.5 ]\n",
    "pifb = [ y0[0] for y0, y1 in zip(Y_pred[:10000], Y_train[:10000]) if y1 == 0 and y0[0] > 0.5 ]\n",
    "\n",
    "print( \"purity = %f\" %( len( pifg ) / ( len(pifg) + len(pifb) ) )  )"
   ]
  },
  {
   "cell_type": "code",
   "execution_count": 153,
   "metadata": {},
   "outputs": [
    {
     "name": "stdout",
     "output_type": "stream",
     "text": [
      "efficiency = 0.995169\n"
     ]
    }
   ],
   "source": [
    "pifg = [ y0[0] for y0, y1 in zip(Y_pred[:10000], Y_train[:10000]) if y1 == 1 and y0[0] > 0.5 ]\n",
    "pifgall = [ y0[0] for y0, y1 in zip(Y_pred[:10000], Y_train[:10000]) if y1 == 1 and y0[0] >= 0.0 ]\n",
    "print ( \"efficiency = %f\" % ( len(pifg) / len(pifgall) ) )"
   ]
  },
  {
   "cell_type": "markdown",
   "metadata": {},
   "source": [
    "### TODO: Make ROC curves"
   ]
  },
  {
   "cell_type": "code",
   "execution_count": 148,
   "metadata": {},
   "outputs": [],
   "source": [
    "n_steps = 100\n",
    "x = np.empty( (n_steps,), dtype=float )\n",
    "y = np.empty( (n_steps,), dtype=float )\n",
    "\n",
    "pifgall = [ y0[0] for y0, y1 in zip(Y_pred[:10000], Y_train[:10000]) if y1 == 1 and y0[0] >= 0.1 ]\n",
    "pifball = [ y0[0] for y0, y1 in zip(Y_pred[:10000], Y_train[:10000]) if y1 == 0 and y0[0] >= 0.1 ]\n",
    "\n",
    "zcut = 0.0\n",
    "for index, cut in enumerate(np.linspace( 0.0, 1.0, n_steps )) :\n",
    "#     print( index, cut )\n",
    "    \n",
    "    pifg = [ y0[0] for y0, y1 in zip(Y_pred[:10000], Y_train[:10000]) if y1 == 1 and y0[0] > cut and y0[0] > zcut ]\n",
    "\n",
    "    seff = len(pifg) / len(pifgall)\n",
    "\n",
    "    pifb = [ y0[0] for y0, y1 in zip(Y_pred[:10000], Y_train[:10000]) if y1 == 0 and y0[0] < cut and y0[0]  > zcut ]\n",
    "    \n",
    "    beff = len(pifb) / len(pifball)\n",
    "    \n",
    "    x[ index ] = seff\n",
    "    y[ index ] = beff\n",
    "    "
   ]
  },
  {
   "cell_type": "code",
   "execution_count": null,
   "metadata": {},
   "outputs": [],
   "source": []
  },
  {
   "cell_type": "code",
   "execution_count": 149,
   "metadata": {},
   "outputs": [
    {
     "data": {
      "image/png": "[encoded data removed]",
      "text/plain": [
       "<Figure size 1152x648 with 1 Axes>"
      ]
     },
     "metadata": {},
     "output_type": "display_data"
    }
   ],
   "source": [
    "plt.figure(figsize=fs)\n",
    "plt.plot( x, y)\n",
    "plt.xlim([0.0, 1.0])\n",
    "plt.show()"
   ]
  },
  {
   "cell_type": "code",
   "execution_count": 150,
   "metadata": {},
   "outputs": [
    {
     "data": {
      "image/png": "[encoded data removed]",
      "text/plain": [
       "<Figure size 1152x648 with 1 Axes>"
      ]
     },
     "metadata": {},
     "output_type": "display_data"
    }
   ],
   "source": [
    "plt.figure( figsize=fs )\n",
    "plt.plot( np.linspace( 0.0, 1.0, n_steps ), x, c='r' )\n",
    "plt.show()"
   ]
  },
  {
   "cell_type": "code",
   "execution_count": 151,
   "metadata": {},
   "outputs": [
    {
     "data": {
      "image/png": "[encoded data removed]",
      "text/plain": [
       "<Figure size 1152x648 with 1 Axes>"
      ]
     },
     "metadata": {},
     "output_type": "display_data"
    }
   ],
   "source": [
    "plt.figure( figsize=fs )\n",
    "plt.plot( np.linspace( 0.0, 1.0, n_steps ), y, c='r' )\n",
    "plt.show()"
   ]
  },
  {
   "cell_type": "code",
   "execution_count": 154,
   "metadata": {},
   "outputs": [
    {
     "name": "stdout",
     "output_type": "stream",
     "text": [
      "Saved model to disk\n"
     ]
    }
   ],
   "source": [
    "# serialize model to JSON\n",
    "model_json = model.to_json()\n",
    "with open(\"model.json\", \"w\") as json_file:\n",
    "    json_file.write(model_json)\n",
    "# serialize weights to HDF5\n",
    "model.save_weights(\"model.h5\")\n",
    "print(\"Saved model to disk\")"
   ]
  },
  {
   "cell_type": "code",
   "execution_count": 155,
   "metadata": {},
   "outputs": [
    {
     "name": "stdout",
     "output_type": "stream",
     "text": [
      "Coverage.ipynb                     draw_sTGC_quads.ipynb\n",
      "NNOptimized2SegmentCriteria.ipynb  model.h5\n",
      "TrackingTrees.ipynb                model.json\n"
     ]
    }
   ],
   "source": [
    "%ls"
   ]
  },
  {
   "cell_type": "markdown",
   "metadata": {},
   "source": [
    "## Evaluate Model event-by-event"
   ]
  },
  {
   "cell_type": "code",
   "execution_count": 159,
   "metadata": {},
   "outputs": [
    {
     "name": "stdout",
     "output_type": "stream",
     "text": [
      "Loaded model from disk\n"
     ]
    }
   ],
   "source": [
    "from tensorflow.python.keras.models import model_from_json\n",
    "# load json and create model\n",
    "json_file = open('model.json', 'r')\n",
    "loaded_model_json = json_file.read()\n",
    "json_file.close()\n",
    "loaded_model = model_from_json(loaded_model_json)\n",
    "# load weights into new model\n",
    "loaded_model.load_weights(\"model.h5\")\n",
    "print(\"Loaded model from disk\")\n",
    " \n",
    "# evaluate loaded model on test data\n",
    "loaded_model.compile(loss='mse', optimizer='adam', metrics=['mse','mae'])\n"
   ]
  },
  {
   "cell_type": "code",
   "execution_count": null,
   "metadata": {},
   "outputs": [],
   "source": [
    "def predict_pair( p ) :\n",
    "    \n",
    "\n",
    "\n",
    "for iEvent in np.arange( len(xyztv[b\"x\"]) ) :\n",
    "    vm = generate_vol_map( xyztv[b\"x\"][iEvent], xyztv[b\"y\"][iEvent], xyztv[b\"z\"][iEvent], xyztv[b\"vid\"][iEvent], xyztv[b\"tid\"][iEvent] )\n",
    "    pts = mct[ b\"pt\" ][iEvent]\n",
    "    pairs = gen_pairs( vm )\n",
    "    all_pairs.extend( pairs )\n",
    "    \n",
    "    mapped_pts = [ pts[ p[0].t ] if p[0].t == p[1].t else 0.0 for p in pairs  ]\n",
    "    all_mapped_pts.extend( mapped_pts )\n",
    "    \n",
    "    inr, inf, ipur = pair_stats( pairs )\n"
   ]
  }
 ],
 "metadata": {
  "kernelspec": {
   "display_name": "Python 3",
   "language": "python",
   "name": "python3"
  },
  "language_info": {
   "codemirror_mode": {
    "name": "ipython",
    "version": 3
   },
   "file_extension": ".py",
   "mimetype": "text/x-python",
   "name": "python",
   "nbconvert_exporter": "python",
   "pygments_lexer": "ipython3",
   "version": "3.7.3"
  }
 },
 "nbformat": 4,
 "nbformat_minor": 4
}
