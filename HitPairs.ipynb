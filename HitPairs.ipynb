{
 "cells": [
  {
   "cell_type": "markdown",
   "metadata": {},
   "source": [
    "### Optimizing the CA criteria using keras"
   ]
  },
  {
   "cell_type": "code",
   "execution_count": 1,
   "metadata": {},
   "outputs": [],
   "source": [
    "import numpy as np\n",
    "import uproot\n",
    "import math"
   ]
  },
  {
   "cell_type": "code",
   "execution_count": 3,
   "metadata": {},
   "outputs": [],
   "source": [
    "f = uproot.open( \"mltree.root\" )\n",
    "mltree = f[\"Stg\"]"
   ]
  },
  {
   "cell_type": "code",
   "execution_count": 4,
   "metadata": {},
   "outputs": [
    {
     "data": {
      "text/plain": [
       "<TTree b'Stg' at 0x000117ea84a8>"
      ]
     },
     "execution_count": 4,
     "metadata": {},
     "output_type": "execute_result"
    }
   ],
   "source": []
  },
  {
   "cell_type": "code",
   "execution_count": 5,
   "metadata": {},
   "outputs": [],
   "source": [
    "import matplotlib.pyplot as plt\n",
    "fs = ( 16, 9 ) # lets make all our figures 16 by 9"
   ]
  },
  {
   "cell_type": "code",
   "execution_count": 6,
   "metadata": {},
   "outputs": [],
   "source": [
    "xyztv = mltree.arrays( [ \"x\", \"y\", \"z\", \"tid\", \"vid\" ]  )\n",
    "mct = mltree.arrays( [\"pt\", \"eta\", \"phi\"] )"
   ]
  },
  {
   "cell_type": "code",
   "execution_count": 9,
   "metadata": {},
   "outputs": [
    {
     "data": {
      "image/png": "[encoded data removed]",
      "text/plain": [
       "<Figure size 1152x648 with 1 Axes>"
      ]
     },
     "metadata": {
      "needs_background": "light"
     },
     "output_type": "display_data"
    }
   ],
   "source": [
    "plt.figure(figsize=fs)\n",
    "plt.hist( xyztv[b\"y\"].flatten(), bins=np.linspace(-60, 60, 50) )\n",
    "plt.show()"
   ]
  },
  {
   "cell_type": "code",
   "execution_count": null,
   "metadata": {},
   "outputs": [],
   "source": []
  },
  {
   "cell_type": "code",
   "execution_count": 20,
   "metadata": {},
   "outputs": [],
   "source": [
    "class HitPoint:\n",
    "    def __init__( self, _x, _y, _z, _v, _t ):\n",
    "        self.x = _x\n",
    "        self.y = _y\n",
    "        self.z = _z\n",
    "        self.v = _v\n",
    "        self.t = _t\n",
    "    def __repr__( self ):\n",
    "        return 'HitPoint[v=%d, (%0.3f, %0.3f, %0.3f), tid=%d]' % ( self.v, self.x, self.y, self.z, self.t )\n",
    "class TwoHit:\n",
    "    def __init__( self, _a, _b):\n",
    "        self.a = _a\n",
    "        self.b = _b\n",
    "\n",
    "    \n",
    "class CriteriaResult:\n",
    "    def __init__(self):\n",
    "        self.real = False\n",
    "        self.res = -99\n",
    "        self.pt = -99\n",
    "        self.eta = -99\n",
    "        self.phi = -99\n",
    "    \n",
    "        \n",
    "def generate_vol_map( x, y, z, v, t, phi0, phi1 ):\n",
    "    vol_map = [ [], [], [], [] ] # maps to 4 volumes\n",
    "    for _x, _y, _z, _v, _t in zip(  x, y, z, v, t ):\n",
    "        phi = math.atan2( _y, _x )\n",
    "        if phi < phi1 and phi >= phi0 :\n",
    "            vol_map[_v].append( HitPoint( _x, _y, _z, _v, _t ) )\n",
    "    return vol_map\n",
    "    #vol_map[]\n",
    "    #print( len(x) )\n",
    "\n",
    "def gen_pairs( vm ) :\n",
    "    hp = []\n",
    "    for i in np.arange( 0, 3 ):\n",
    "        for a in vm[i] :\n",
    "            for b in vm[i+1]:\n",
    "                hp.append( (a,b) )\n",
    "    return hp\n",
    "\n",
    "def process_pairs( hp, pts, crit ):\n",
    "    crs = []\n",
    "    \n",
    "    for points in hp:\n",
    "        a = points[0]\n",
    "        b = points[1]\n",
    "        cr = CriteriaResult()\n",
    "        cr.res = crit(a, b)\n",
    "        cr.real = (a.t == b.t)\n",
    "        if cr.real :\n",
    "            cr.pt = pts[a.t - 1]\n",
    "        crs.append( cr )\n",
    "        \n",
    "    return crs\n",
    "\n",
    "\n",
    "def crit_rz( a, b ):\n",
    "    dx = a.x-b.x\n",
    "    dy = a.y-b.y\n",
    "    dz = a.z-b.z\n",
    "    return (dx**2+dy**2+dz**2)/dz**2;\n",
    "\n",
    "M_PI = 3.1415926\n",
    "def crit_dphi( a, b ):\n",
    "    phia = math.atan2( a.y, a.x )\n",
    "    phib = math.atan2(b.y, b.x)\n",
    "    deltaPhi = phia-phib\n",
    "    if deltaPhi > M_PI :\n",
    "        deltaPhi = deltaPhi - 2*M_PI\n",
    "    if deltaPhi < -M_PI:\n",
    "        deltaPhi = deltaPhi + 2*M_PI\n",
    "    if ( b.y*b.y + b.x*b.x < 0.0001 ) or ( a.y*a.y + a.x*a.x < 0.0001 ):\n",
    "        deltaPhi = 0\n",
    "    deltaPhi = 180. * math.fabs( deltaPhi ) / M_PI\n",
    "    return deltaPhi\n",
    "\n",
    "def crit_deltaRho( a, b ):\n",
    "    rhoA =  math.sqrt( a.x*a.x + a.y*a.y );\n",
    "    rhoB =  math.sqrt( b.x*b.x + b.y*b.y );\n",
    "\n",
    "    deltaRho = rhoA - rhoB;\n",
    "    return deltaRho\n",
    "\n",
    "def pair_stats( pairs ):\n",
    "    nr = 0\n",
    "    nf = 0\n",
    "    for p in pairs:\n",
    "        if p[0].t == p[1].t:\n",
    "            nr = nr + 1\n",
    "        else :\n",
    "            nf = nf + 1\n",
    "#     print( \"There are %d real and %d fake pairs, with %f %% real\" % ( nr, nf, (nr / len(pairs)) ) ) \n",
    "    return (nr, nf, (nr / len(pairs)) )"
   ]
  },
  {
   "cell_type": "code",
   "execution_count": 23,
   "metadata": {},
   "outputs": [
    {
     "data": {
      "text/plain": [
       "[(HitPoint[v=0, (7.543, 20.994, 280.905), tid=302],\n",
       "  HitPoint[v=1, (8.503, 24.978, 303.705), tid=302]),\n",
       " (HitPoint[v=0, (7.543, 20.994, 280.905), tid=302],\n",
       "  HitPoint[v=1, (16.451, 21.481, 303.705), tid=328]),\n",
       " (HitPoint[v=0, (14.246, 18.194, 280.905), tid=328],\n",
       "  HitPoint[v=1, (8.503, 24.978, 303.705), tid=302]),\n",
       " (HitPoint[v=0, (14.246, 18.194, 280.905), tid=328],\n",
       "  HitPoint[v=1, (16.451, 21.481, 303.705), tid=328]),\n",
       " (HitPoint[v=1, (8.503, 24.978, 303.705), tid=302],\n",
       "  HitPoint[v=2, (9.475, 29.001, 326.605), tid=302]),\n",
       " (HitPoint[v=1, (8.503, 24.978, 303.705), tid=302],\n",
       "  HitPoint[v=2, (18.730, 24.746, 326.605), tid=328]),\n",
       " (HitPoint[v=1, (16.451, 21.481, 303.705), tid=328],\n",
       "  HitPoint[v=2, (9.475, 29.001, 326.605), tid=302]),\n",
       " (HitPoint[v=1, (16.451, 21.481, 303.705), tid=328],\n",
       "  HitPoint[v=2, (18.730, 24.746, 326.605), tid=328]),\n",
       " (HitPoint[v=2, (9.475, 29.001, 326.605), tid=302],\n",
       "  HitPoint[v=3, (10.435, 32.974, 349.405), tid=302]),\n",
       " (HitPoint[v=2, (9.475, 29.001, 326.605), tid=302],\n",
       "  HitPoint[v=3, (20.902, 28.012, 349.405), tid=328]),\n",
       " (HitPoint[v=2, (18.730, 24.746, 326.605), tid=328],\n",
       "  HitPoint[v=3, (10.435, 32.974, 349.405), tid=302]),\n",
       " (HitPoint[v=2, (18.730, 24.746, 326.605), tid=328],\n",
       "  HitPoint[v=3, (20.902, 28.012, 349.405), tid=328])]"
      ]
     },
     "execution_count": 23,
     "metadata": {},
     "output_type": "execute_result"
    }
   ],
   "source": [
    "iEvent = 0\n",
    "vm = generate_vol_map( xyztv[b\"x\"][iEvent], xyztv[b\"y\"][iEvent], xyztv[b\"z\"][iEvent], xyztv[b\"vid\"][iEvent], xyztv[b\"tid\"][iEvent], 0, math.pi / 2.0 )\n",
    "pairs = gen_pairs(vm)\n",
    "\n",
    "pairs"
   ]
  },
  {
   "cell_type": "code",
   "execution_count": 31,
   "metadata": {},
   "outputs": [
    {
     "name": "stdout",
     "output_type": "stream",
     "text": [
      "Event 0\n",
      "Event 5000\n",
      "Event 10000\n",
      "Event 15000\n",
      "Event 20000\n",
      "Event 25000\n",
      "Event 30000\n",
      "Event 35000\n",
      "Event 40000\n",
      "Event 45000\n"
     ]
    }
   ],
   "source": [
    "all_pairs = []\n",
    "all_mapped_pts = []\n",
    "all_RZ = []\n",
    "all_DP = []\n",
    "all_DR = []\n",
    "\n",
    "for iEvent in np.arange( len(xyztv[b\"x\"]) ) :\n",
    "    vm = generate_vol_map( xyztv[b\"x\"][iEvent], xyztv[b\"y\"][iEvent], xyztv[b\"z\"][iEvent], xyztv[b\"vid\"][iEvent], xyztv[b\"tid\"][iEvent], 0, math.pi/4 )\n",
    "    pts = mct[ b\"pt\" ][iEvent]\n",
    "    pairs = gen_pairs( vm )\n",
    "    all_pairs.extend( pairs )\n",
    "    \n",
    "    mapped_pts = [ pts[ p[0].t ] if p[0].t == p[1].t else 0.0 for p in pairs  ]\n",
    "    all_mapped_pts.extend( mapped_pts )\n",
    "    \n",
    "    if iEvent % 5000 == 0:\n",
    "        print( \"Event %d\" %(iEvent))\n",
    "#     inr, inf, ipur = pair_stats( pairs )\n",
    "\n",
    "    "
   ]
  },
  {
   "cell_type": "code",
   "execution_count": 36,
   "metadata": {},
   "outputs": [
    {
     "data": {
      "text/plain": [
       "857586"
      ]
     },
     "execution_count": 36,
     "metadata": {},
     "output_type": "execute_result"
    }
   ],
   "source": [
    "len(all_pairs)"
   ]
  },
  {
   "cell_type": "code",
   "execution_count": 35,
   "metadata": {},
   "outputs": [],
   "source": [
    "all_RZ = [ crit_rz( p[0], p[1] ) for p in all_pairs ]"
   ]
  },
  {
   "cell_type": "code",
   "execution_count": 51,
   "metadata": {},
   "outputs": [
    {
     "data": {
      "image/png": "[encoded data removed]",
      "text/plain": [
       "<Figure size 1152x648 with 1 Axes>"
      ]
     },
     "metadata": {
      "needs_background": "light"
     },
     "output_type": "display_data"
    }
   ],
   "source": [
    "RZ_real = [ rz for i, rz in enumerate(all_RZ) if all_pairs[i][0].t == all_pairs[i][1].t  ]\n",
    "RZ_fake = [ rz for i, rz in enumerate(all_RZ) if all_pairs[i][0].t != all_pairs[i][1].t  ]\n",
    "\n",
    "plt.figure(figsize=fs)\n",
    "plt.hist( RZ_real, bins=np.linspace(0.8, 1.5, 200), fc='red' )\n",
    "plt.hist( RZ_fake, bins=np.linspace(0.8, 1.5, 200), fc='blue', alpha=0.4 )\n",
    "plt.yscale('log')\n",
    "plt.show()"
   ]
  },
  {
   "cell_type": "code",
   "execution_count": null,
   "metadata": {},
   "outputs": [],
   "source": [
    "\n",
    "all_DP = [ crit_dphi( p[0], p[1] ) for p in all_pairs ]\n",
    "all_DR = [ crit_deltaRho( p[0], p[1] ) for p in all_pairs ]"
   ]
  }
 ],
 "metadata": {
  "kernelspec": {
   "display_name": "Python 3",
   "language": "python",
   "name": "python3"
  },
  "language_info": {
   "codemirror_mode": {
    "name": "ipython",
    "version": 3
   },
   "file_extension": ".py",
   "mimetype": "text/x-python",
   "name": "python",
   "nbconvert_exporter": "python",
   "pygments_lexer": "ipython3",
   "version": "3.7.3"
  }
 },
 "nbformat": 4,
 "nbformat_minor": 4
}
